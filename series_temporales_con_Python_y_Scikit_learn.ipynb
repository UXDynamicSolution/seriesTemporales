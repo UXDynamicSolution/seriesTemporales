{
  "nbformat": 4,
  "nbformat_minor": 0,
  "metadata": {
    "colab": {
      "name": "series temporales con Python y Scikit-learn.ipynb",
      "provenance": [],
      "collapsed_sections": [],
      "authorship_tag": "ABX9TyMk6CqpoFQ4neHA1nyaP5AU",
      "include_colab_link": true
    },
    "kernelspec": {
      "name": "python3",
      "display_name": "Python 3"
    },
    "language_info": {
      "name": "python"
    }
  },
  "cells": [
    {
      "cell_type": "markdown",
      "metadata": {
        "id": "view-in-github",
        "colab_type": "text"
      },
      "source": [
        "<a href=\"https://colab.research.google.com/github/UXDynamicSolution/seriesTemporales/blob/main/series_temporales_con_Python_y_Scikit_learn.ipynb\" target=\"_parent\"><img src=\"https://colab.research.google.com/assets/colab-badge.svg\" alt=\"Open In Colab\"/></a>"
      ]
    },
    {
      "cell_type": "markdown",
      "source": [
        "\n",
        "# Series temporales con Python y Scikit-learn\n",
        "Una serie temporal (time series) es una sucesión de datos ordenados cronológicamente, espaciados a intervalos iguales o desiguales. El proceso de forecasting consiste en predecir el valor futuro de una serie temporal, bien modelando la serie únicamente en función de su comportamiento pasado (autorregresivo) o empleando otras variables externas."
      ],
      "metadata": {
        "id": "LS5sS8kO1f1S"
      }
    },
    {
      "cell_type": "markdown",
      "source": [
        "A lo largo de este documento, se describe cómo utilizar modelos de regresión de Scikit-learn para realizar forecasting sobre series temporales. En concreto, se hace uso de Skforecast, una librería que contiene las clases y funciones necesarias para adaptar cualquier modelo de regresión de Scikit-learn a problemas de forecasting."
      ],
      "metadata": {
        "id": "IEKARuHU15kE"
      }
    },
    {
      "cell_type": "markdown",
      "source": [
        "# Entrenar un modelo de pronóstico"
      ],
      "metadata": {
        "id": "lotRu1e12CR8"
      }
    },
    {
      "cell_type": "markdown",
      "source": [
        "La principal adaptación que se necesita hacer para aplicar modelos de machine learning a problemas de forecasting es transformar la serie temporal en un matriz en la que, cada valor, está asociado a la ventana temporal (lags) que le precede.\n",
        "\n",
        "Este tipo de transformación también permite incluir variables exógenas a la serie temporal.\n",
        "\n",
        "\n",
        "Una vez que los datos se encuentran reordenados de esta forma, se puede entrenar cualquier modelo de regresión para que aprenda a predecir el siguiente valor de la serie.\n"
      ],
      "metadata": {
        "id": "c_6jSXXj2JqV"
      }
    },
    {
      "cell_type": "markdown",
      "source": [
        "# Predicciones multi-step\n",
        "\n",
        "Cuando se trabaja con series temporales, raramente se quiere predecir solo el siguiente elemento de la serie ( t+1 ), sino todo un intervalo futuro o un punto alejado en el tiempo ( t+n ). A cada paso de predicción se le conoce como step. Existen varias estrategias que permiten generar este tipo de predicciones múltiples."
      ],
      "metadata": {
        "id": "phEnhXzS2XDp"
      }
    },
    {
      "cell_type": "markdown",
      "source": [
        "# Recursive multi-step forecasting\n",
        "\n",
        "Dado que, para predecir el momento  tn  se necesita el valor de  tn−1 , y  tn−1  se desconoce, se sigue un proceso recursivo en el que, cada nueva predicción, hace uso de la predicción anterior. A este proceso se le conoce como recursive forecasting o recursive multi-step forecasting y pueden generarse fácilmente con las clases ForecasterAutoreg y ForecasterAutoregCustom de la librería skforecast."
      ],
      "metadata": {
        "id": "wLpSGhdZ2faB"
      }
    },
    {
      "cell_type": "markdown",
      "source": [
        "# Direct multi-step forecasting\n",
        "\n",
        "El método direct multi-step forecasting consiste en entrenar un modelo distinto para cada step. Por ejemplo, si se quieren predecir los siguientes 5 valores de una serie temporal, se entrenan 5 modelos distintos, uno para cada step. Como resultado, las predicciones son independientes unas de otras.\n",
        "\n",
        "La principal complejidad de esta aproximación consiste en generar correctamente las matrices de entrenamiento para cada modelo. Todo este proceso está automatizado en la clase ForecasterAutoregMultiOutput de la librería skforecast. También es importante tener en cuenta que esta estrategia tiene un coste computacional más elevado ya que requiere entrenar múltiples modelos. En el siguiente esquema se muestra el proceso para un caso en el que se dispone de la variable respuesta y dos variables exógenas."
      ],
      "metadata": {
        "id": "f_UiBTCF2n7b"
      }
    },
    {
      "cell_type": "markdown",
      "source": [
        "# Multiple output forecasting\n",
        "\n",
        "Determinados modelos, por ejemplo, las redes neuronales LSTM, son capaces de predecir de forma simultánea varios valores de una secuencia (one-shot). Esta estrategia no está disponible en skforecast."
      ],
      "metadata": {
        "id": "BvbCenYV2y3E"
      }
    },
    {
      "cell_type": "markdown",
      "source": [
        "# Forecasting autorregresivo recursivo\n",
        "\n",
        "Se dispone de una serie temporal con el gasto mensual (millones de dólares) en fármacos con corticoides que tuvo el sistema de salud Australiano entre 1991 y 2008. Se pretende crear un modelo autoregresivo capaz de predecir el futuro gasto mensual."
      ],
      "metadata": {
        "id": "M0l62jjF241u"
      }
    },
    {
      "cell_type": "markdown",
      "source": [
        "# Librerías\n",
        "\n",
        "Las librerías utilizadas en este documento son:\n",
        "\n"
      ],
      "metadata": {
        "id": "NsriVIry276v"
      }
    },
    {
      "cell_type": "code",
      "source": [
        "pip install skforecast"
      ],
      "metadata": {
        "colab": {
          "base_uri": "https://localhost:8080/"
        },
        "id": "qytM4YQ6TYqp",
        "outputId": "8d9f34b4-a9d1-4bf5-9689-0f710408ace3"
      },
      "execution_count": 2,
      "outputs": [
        {
          "output_type": "stream",
          "name": "stdout",
          "text": [
            "Looking in indexes: https://pypi.org/simple, https://us-python.pkg.dev/colab-wheels/public/simple/\n",
            "Collecting skforecast\n",
            "  Downloading skforecast-0.4.3-py2.py3-none-any.whl (87 kB)\n",
            "\u001b[K     |████████████████████████████████| 87 kB 5.0 MB/s \n",
            "\u001b[?25hRequirement already satisfied: pandas<=1.4,>=1.2 in /usr/local/lib/python3.7/dist-packages (from skforecast) (1.3.5)\n",
            "Requirement already satisfied: numpy<=1.22,>=1.20 in /usr/local/lib/python3.7/dist-packages (from skforecast) (1.21.6)\n",
            "Requirement already satisfied: scikit-learn>=1.0 in /usr/local/lib/python3.7/dist-packages (from skforecast) (1.0.2)\n",
            "Collecting statsmodels<=0.13,>=0.12\n",
            "  Downloading statsmodels-0.13.0-cp37-cp37m-manylinux_2_17_x86_64.manylinux2014_x86_64.whl (9.8 MB)\n",
            "\u001b[K     |████████████████████████████████| 9.8 MB 28.8 MB/s \n",
            "\u001b[?25hCollecting tqdm<=4.62,>=4.57.0\n",
            "  Downloading tqdm-4.62.0-py2.py3-none-any.whl (76 kB)\n",
            "\u001b[K     |████████████████████████████████| 76 kB 5.0 MB/s \n",
            "\u001b[?25hRequirement already satisfied: python-dateutil>=2.7.3 in /usr/local/lib/python3.7/dist-packages (from pandas<=1.4,>=1.2->skforecast) (2.8.2)\n",
            "Requirement already satisfied: pytz>=2017.3 in /usr/local/lib/python3.7/dist-packages (from pandas<=1.4,>=1.2->skforecast) (2022.1)\n",
            "Requirement already satisfied: six>=1.5 in /usr/local/lib/python3.7/dist-packages (from python-dateutil>=2.7.3->pandas<=1.4,>=1.2->skforecast) (1.15.0)\n",
            "Requirement already satisfied: scipy>=1.1.0 in /usr/local/lib/python3.7/dist-packages (from scikit-learn>=1.0->skforecast) (1.7.3)\n",
            "Requirement already satisfied: joblib>=0.11 in /usr/local/lib/python3.7/dist-packages (from scikit-learn>=1.0->skforecast) (1.1.0)\n",
            "Requirement already satisfied: threadpoolctl>=2.0.0 in /usr/local/lib/python3.7/dist-packages (from scikit-learn>=1.0->skforecast) (3.1.0)\n",
            "Requirement already satisfied: patsy>=0.5.2 in /usr/local/lib/python3.7/dist-packages (from statsmodels<=0.13,>=0.12->skforecast) (0.5.2)\n",
            "Installing collected packages: tqdm, statsmodels, skforecast\n",
            "  Attempting uninstall: tqdm\n",
            "    Found existing installation: tqdm 4.64.0\n",
            "    Uninstalling tqdm-4.64.0:\n",
            "      Successfully uninstalled tqdm-4.64.0\n",
            "  Attempting uninstall: statsmodels\n",
            "    Found existing installation: statsmodels 0.10.2\n",
            "    Uninstalling statsmodels-0.10.2:\n",
            "      Successfully uninstalled statsmodels-0.10.2\n",
            "Successfully installed skforecast-0.4.3 statsmodels-0.13.0 tqdm-4.62.0\n"
          ]
        }
      ]
    },
    {
      "cell_type": "code",
      "source": [
        "# Tratamiento de datos\n",
        "# ==============================================================================\n",
        "import numpy as np\n",
        "import pandas as pd\n",
        "\n",
        "# Gráficos\n",
        "# ==============================================================================\n",
        "import matplotlib.pyplot as plt\n",
        "plt.style.use('fivethirtyeight')\n",
        "plt.rcParams['lines.linewidth'] = 1.5\n",
        "%matplotlib inline\n",
        "\n",
        "# Modelado y Forecasting\n",
        "# ==============================================================================\n",
        "from sklearn.linear_model import LinearRegression\n",
        "from sklearn.linear_model import Lasso\n",
        "from sklearn.ensemble import RandomForestRegressor\n",
        "from sklearn.metrics import mean_squared_error\n",
        "from sklearn.preprocessing import StandardScaler\n",
        "from sklearn.pipeline import make_pipeline\n",
        "\n",
        "from skforecast.ForecasterAutoreg import ForecasterAutoreg\n",
        "from skforecast.ForecasterAutoregCustom import ForecasterAutoregCustom\n",
        "from skforecast.ForecasterAutoregMultiOutput import ForecasterAutoregMultiOutput\n",
        "from skforecast.model_selection import grid_search_forecaster\n",
        "from skforecast.model_selection import backtesting_forecaster\n",
        "\n",
        "from joblib import dump, load\n",
        "\n",
        "# Configuración warnings\n",
        "# ==============================================================================\n",
        "import warnings\n",
        "# warnings.filterwarnings('ignore')"
      ],
      "metadata": {
        "id": "LzZCOSAH1m4x"
      },
      "execution_count": 3,
      "outputs": []
    },
    {
      "cell_type": "markdown",
      "source": [
        "# Datos\n",
        "\n",
        "Los datos empleados en los ejemplos de este documento se han obtenido del magnífico libro Forecasting: Principles and Practice by Rob J Hyndman and George Athanasopoulos."
      ],
      "metadata": {
        "id": "S6W_UVQLTqxd"
      }
    },
    {
      "cell_type": "code",
      "source": [
        "# Descarga de datos\n",
        "# ==============================================================================\n",
        "url = 'https://raw.githubusercontent.com/JoaquinAmatRodrigo/skforecast/master/data/h2o_exog.csv'\n",
        "datos = pd.read_csv(url, sep=',')"
      ],
      "metadata": {
        "id": "CWPj8triT7bM"
      },
      "execution_count": 4,
      "outputs": []
    },
    {
      "cell_type": "markdown",
      "source": [
        "La columna fecha se ha almacenado como string. Para convertirla en datetime, se emplea la función pd.to_datetime(). Una vez en formato datetime, y para hacer uso de las funcionalidades de Pandas, se establece como índice. Además, dado que los datos son mensuales, se indica la frecuencia (Monthly Started 'MS')."
      ],
      "metadata": {
        "id": "QUeXKFdxT-W1"
      }
    },
    {
      "cell_type": "code",
      "source": [
        "# Preparación del dato\n",
        "# ==============================================================================\n",
        "datos['fecha'] = pd.to_datetime(datos['fecha'], format='%Y/%m/%d')\n",
        "datos = datos.set_index('fecha')\n",
        "datos = datos.rename(columns={'x': 'y'})\n",
        "datos = datos.asfreq('MS')\n",
        "datos = datos.sort_index()\n",
        "datos.head()"
      ],
      "metadata": {
        "colab": {
          "base_uri": "https://localhost:8080/",
          "height": 238
        },
        "id": "zk4OlwOPT_J0",
        "outputId": "446e0d41-6389-444e-eeee-518cf313c647"
      },
      "execution_count": 5,
      "outputs": [
        {
          "output_type": "execute_result",
          "data": {
            "text/plain": [
              "                   y    exog_1    exog_2\n",
              "fecha                                   \n",
              "1992-04-01  0.379808  0.958792  1.166029\n",
              "1992-05-01  0.361801  0.951993  1.117859\n",
              "1992-06-01  0.410534  0.952955  1.067942\n",
              "1992-07-01  0.483389  0.958078  1.097376\n",
              "1992-08-01  0.475463  0.956370  1.122199"
            ],
            "text/html": [
              "\n",
              "  <div id=\"df-3865aca5-9311-4910-ac58-8233b7a6042e\">\n",
              "    <div class=\"colab-df-container\">\n",
              "      <div>\n",
              "<style scoped>\n",
              "    .dataframe tbody tr th:only-of-type {\n",
              "        vertical-align: middle;\n",
              "    }\n",
              "\n",
              "    .dataframe tbody tr th {\n",
              "        vertical-align: top;\n",
              "    }\n",
              "\n",
              "    .dataframe thead th {\n",
              "        text-align: right;\n",
              "    }\n",
              "</style>\n",
              "<table border=\"1\" class=\"dataframe\">\n",
              "  <thead>\n",
              "    <tr style=\"text-align: right;\">\n",
              "      <th></th>\n",
              "      <th>y</th>\n",
              "      <th>exog_1</th>\n",
              "      <th>exog_2</th>\n",
              "    </tr>\n",
              "    <tr>\n",
              "      <th>fecha</th>\n",
              "      <th></th>\n",
              "      <th></th>\n",
              "      <th></th>\n",
              "    </tr>\n",
              "  </thead>\n",
              "  <tbody>\n",
              "    <tr>\n",
              "      <th>1992-04-01</th>\n",
              "      <td>0.379808</td>\n",
              "      <td>0.958792</td>\n",
              "      <td>1.166029</td>\n",
              "    </tr>\n",
              "    <tr>\n",
              "      <th>1992-05-01</th>\n",
              "      <td>0.361801</td>\n",
              "      <td>0.951993</td>\n",
              "      <td>1.117859</td>\n",
              "    </tr>\n",
              "    <tr>\n",
              "      <th>1992-06-01</th>\n",
              "      <td>0.410534</td>\n",
              "      <td>0.952955</td>\n",
              "      <td>1.067942</td>\n",
              "    </tr>\n",
              "    <tr>\n",
              "      <th>1992-07-01</th>\n",
              "      <td>0.483389</td>\n",
              "      <td>0.958078</td>\n",
              "      <td>1.097376</td>\n",
              "    </tr>\n",
              "    <tr>\n",
              "      <th>1992-08-01</th>\n",
              "      <td>0.475463</td>\n",
              "      <td>0.956370</td>\n",
              "      <td>1.122199</td>\n",
              "    </tr>\n",
              "  </tbody>\n",
              "</table>\n",
              "</div>\n",
              "      <button class=\"colab-df-convert\" onclick=\"convertToInteractive('df-3865aca5-9311-4910-ac58-8233b7a6042e')\"\n",
              "              title=\"Convert this dataframe to an interactive table.\"\n",
              "              style=\"display:none;\">\n",
              "        \n",
              "  <svg xmlns=\"http://www.w3.org/2000/svg\" height=\"24px\"viewBox=\"0 0 24 24\"\n",
              "       width=\"24px\">\n",
              "    <path d=\"M0 0h24v24H0V0z\" fill=\"none\"/>\n",
              "    <path d=\"M18.56 5.44l.94 2.06.94-2.06 2.06-.94-2.06-.94-.94-2.06-.94 2.06-2.06.94zm-11 1L8.5 8.5l.94-2.06 2.06-.94-2.06-.94L8.5 2.5l-.94 2.06-2.06.94zm10 10l.94 2.06.94-2.06 2.06-.94-2.06-.94-.94-2.06-.94 2.06-2.06.94z\"/><path d=\"M17.41 7.96l-1.37-1.37c-.4-.4-.92-.59-1.43-.59-.52 0-1.04.2-1.43.59L10.3 9.45l-7.72 7.72c-.78.78-.78 2.05 0 2.83L4 21.41c.39.39.9.59 1.41.59.51 0 1.02-.2 1.41-.59l7.78-7.78 2.81-2.81c.8-.78.8-2.07 0-2.86zM5.41 20L4 18.59l7.72-7.72 1.47 1.35L5.41 20z\"/>\n",
              "  </svg>\n",
              "      </button>\n",
              "      \n",
              "  <style>\n",
              "    .colab-df-container {\n",
              "      display:flex;\n",
              "      flex-wrap:wrap;\n",
              "      gap: 12px;\n",
              "    }\n",
              "\n",
              "    .colab-df-convert {\n",
              "      background-color: #E8F0FE;\n",
              "      border: none;\n",
              "      border-radius: 50%;\n",
              "      cursor: pointer;\n",
              "      display: none;\n",
              "      fill: #1967D2;\n",
              "      height: 32px;\n",
              "      padding: 0 0 0 0;\n",
              "      width: 32px;\n",
              "    }\n",
              "\n",
              "    .colab-df-convert:hover {\n",
              "      background-color: #E2EBFA;\n",
              "      box-shadow: 0px 1px 2px rgba(60, 64, 67, 0.3), 0px 1px 3px 1px rgba(60, 64, 67, 0.15);\n",
              "      fill: #174EA6;\n",
              "    }\n",
              "\n",
              "    [theme=dark] .colab-df-convert {\n",
              "      background-color: #3B4455;\n",
              "      fill: #D2E3FC;\n",
              "    }\n",
              "\n",
              "    [theme=dark] .colab-df-convert:hover {\n",
              "      background-color: #434B5C;\n",
              "      box-shadow: 0px 1px 3px 1px rgba(0, 0, 0, 0.15);\n",
              "      filter: drop-shadow(0px 1px 2px rgba(0, 0, 0, 0.3));\n",
              "      fill: #FFFFFF;\n",
              "    }\n",
              "  </style>\n",
              "\n",
              "      <script>\n",
              "        const buttonEl =\n",
              "          document.querySelector('#df-3865aca5-9311-4910-ac58-8233b7a6042e button.colab-df-convert');\n",
              "        buttonEl.style.display =\n",
              "          google.colab.kernel.accessAllowed ? 'block' : 'none';\n",
              "\n",
              "        async function convertToInteractive(key) {\n",
              "          const element = document.querySelector('#df-3865aca5-9311-4910-ac58-8233b7a6042e');\n",
              "          const dataTable =\n",
              "            await google.colab.kernel.invokeFunction('convertToInteractive',\n",
              "                                                     [key], {});\n",
              "          if (!dataTable) return;\n",
              "\n",
              "          const docLinkHtml = 'Like what you see? Visit the ' +\n",
              "            '<a target=\"_blank\" href=https://colab.research.google.com/notebooks/data_table.ipynb>data table notebook</a>'\n",
              "            + ' to learn more about interactive tables.';\n",
              "          element.innerHTML = '';\n",
              "          dataTable['output_type'] = 'display_data';\n",
              "          await google.colab.output.renderOutput(dataTable, element);\n",
              "          const docLink = document.createElement('div');\n",
              "          docLink.innerHTML = docLinkHtml;\n",
              "          element.appendChild(docLink);\n",
              "        }\n",
              "      </script>\n",
              "    </div>\n",
              "  </div>\n",
              "  "
            ]
          },
          "metadata": {},
          "execution_count": 5
        }
      ]
    },
    {
      "cell_type": "markdown",
      "source": [
        "Al establecer una frecuencia con el método asfreq(), Pandas completa los huecos que puedan existir en la serie temporal con el valor de Null con el fin de asegurar la frecuencia indicada, ejemplo. Por ello, se debe comprobar si han aparecido missing values tras esta transformación."
      ],
      "metadata": {
        "id": "qu_zHIrUUE9A"
      }
    },
    {
      "cell_type": "code",
      "source": [
        "print(f'Número de filas con missing values: {datos.isnull().any(axis=1).mean()}')\n"
      ],
      "metadata": {
        "colab": {
          "base_uri": "https://localhost:8080/"
        },
        "id": "7BCtbLq-UIBN",
        "outputId": "b23bae29-37ff-49bc-c2b2-4478725c768b"
      },
      "execution_count": 6,
      "outputs": [
        {
          "output_type": "stream",
          "name": "stdout",
          "text": [
            "Número de filas con missing values: 0.0\n"
          ]
        }
      ]
    },
    {
      "cell_type": "markdown",
      "source": [
        "Aunque no es necesario al haber establecido un frecuencia, se puede verificar que la serie temporal esté completa.\n",
        "\n"
      ],
      "metadata": {
        "id": "DLFFBo5_ULfT"
      }
    },
    {
      "cell_type": "code",
      "source": [
        "# Verificar que un índice temporal está completo\n",
        "# ==============================================================================\n",
        "(datos.index == pd.date_range(\n",
        "                    start = datos.index.min(),\n",
        "                    end   = datos.index.max(),\n",
        "                    freq  = datos.index.freq)\n",
        ").all()"
      ],
      "metadata": {
        "colab": {
          "base_uri": "https://localhost:8080/"
        },
        "id": "1lNSxj-5UOqf",
        "outputId": "ce657a05-1850-4c1d-e205-6b481679d2f4"
      },
      "execution_count": 7,
      "outputs": [
        {
          "output_type": "execute_result",
          "data": {
            "text/plain": [
              "True"
            ]
          },
          "metadata": {},
          "execution_count": 7
        }
      ]
    },
    {
      "cell_type": "markdown",
      "source": [
        "Se utilizan los últimos 36 meses como conjunto de test para evaluar la capacidad predictiva del modelo:"
      ],
      "metadata": {
        "id": "c8SsL8CaUYjB"
      }
    },
    {
      "cell_type": "code",
      "source": [
        "\n",
        "# Completar huecos en un índice temporal\n",
        "# ==============================================================================\n",
        "# datos.asfreq(freq='30min', fill_value=np.nan)"
      ],
      "metadata": {
        "id": "ZBlwWhTdUWAS"
      },
      "execution_count": 8,
      "outputs": []
    },
    {
      "cell_type": "code",
      "source": [
        "# Separación datos train-test\n",
        "# ==============================================================================\n",
        "steps = 36\n",
        "datos_train = datos[:-steps]\n",
        "datos_test  = datos[-steps:]\n",
        "\n",
        "print(f\"Fechas train : {datos_train.index.min()} --- {datos_train.index.max()}  (n={len(datos_train)})\")\n",
        "print(f\"Fechas test  : {datos_test.index.min()} --- {datos_test.index.max()}  (n={len(datos_test)})\")\n",
        "\n",
        "fig, ax = plt.subplots(figsize=(9, 4))\n",
        "datos_train['y'].plot(ax=ax, label='train')\n",
        "datos_test['y'].plot(ax=ax, label='test')\n",
        "ax.legend();"
      ],
      "metadata": {
        "colab": {
          "base_uri": "https://localhost:8080/",
          "height": 314
        },
        "id": "RC1NnSa5Udgr",
        "outputId": "c2f6d246-4f31-4c88-eff8-b6ef01954cfc"
      },
      "execution_count": 9,
      "outputs": [
        {
          "output_type": "stream",
          "name": "stdout",
          "text": [
            "Fechas train : 1992-04-01 00:00:00 --- 2005-06-01 00:00:00  (n=159)\n",
            "Fechas test  : 2005-07-01 00:00:00 --- 2008-06-01 00:00:00  (n=36)\n"
          ]
        },
        {
          "output_type": "display_data",
          "data": {
            "text/plain": [
              "<Figure size 648x288 with 1 Axes>"
            ],
            "image/png": "[encoded data removed]"
          },
          "metadata": {
            "needs_background": "light"
          }
        }
      ]
    },
    {
      "cell_type": "markdown",
      "source": [
        "# ForecasterAutoreg\n",
        "\n",
        "Se crea y entrena un modelo ForecasterAutoreg a partir de un regresor RandomForestRegressor y una ventana temporal de 6 lags. Esto último significa que, el modelo, utiliza como predictores los 6 meses anteriores."
      ],
      "metadata": {
        "id": "_uHEr5RtUhOC"
      }
    },
    {
      "cell_type": "code",
      "source": [
        "# Crear y entrenar forecaster\n",
        "# ==============================================================================\n",
        "forecaster = ForecasterAutoreg(\n",
        "                regressor = RandomForestRegressor(random_state=123),\n",
        "                lags = 6\n",
        "             )\n",
        "\n",
        "forecaster.fit(y=datos_train['y'])\n",
        "forecaster"
      ],
      "metadata": {
        "colab": {
          "base_uri": "https://localhost:8080/"
        },
        "id": "fQdWyeeCUm8i",
        "outputId": "2c7017ff-06d7-4b70-d4cd-38bbe4ab2d07"
      },
      "execution_count": 10,
      "outputs": [
        {
          "output_type": "execute_result",
          "data": {
            "text/plain": [
              "================= \n",
              "ForecasterAutoreg \n",
              "================= \n",
              "Regressor: RandomForestRegressor(random_state=123) \n",
              "Lags: [1 2 3 4 5 6] \n",
              "Window size: 6 \n",
              "Included exogenous: False \n",
              "Type of exogenous variable: None \n",
              "Exogenous variables names: None \n",
              "Training range: [Timestamp('1992-04-01 00:00:00'), Timestamp('2005-06-01 00:00:00')] \n",
              "Training index type: DatetimeIndex \n",
              "Training index frequency: MS \n",
              "Regressor parameters: {'bootstrap': True, 'ccp_alpha': 0.0, 'criterion': 'squared_error', 'max_depth': None, 'max_features': 'auto', 'max_leaf_nodes': None, 'max_samples': None, 'min_impurity_decrease': 0.0, 'min_samples_leaf': 1, 'min_samples_split': 2, 'min_weight_fraction_leaf': 0.0, 'n_estimators': 100, 'n_jobs': None, 'oob_score': False, 'random_state': 123, 'verbose': 0, 'warm_start': False} \n",
              "Creation date: 2022-08-09 06:37:21 \n",
              "Last fit date: 2022-08-09 06:37:21 \n",
              "Skforecast version: 0.4.3 "
            ]
          },
          "metadata": {},
          "execution_count": 10
        }
      ]
    },
    {
      "cell_type": "markdown",
      "source": [
        "# Predicciones\n",
        "Una vez entrenado el modelo, se predicen los datos de test (36 meses a futuro).\n",
        "\n"
      ],
      "metadata": {
        "id": "OadKyhWiUo6b"
      }
    },
    {
      "cell_type": "code",
      "source": [
        "# Predicciones\n",
        "# ==============================================================================\n",
        "steps = 36\n",
        "predicciones = forecaster.predict(steps=steps)\n",
        "predicciones.head(5)"
      ],
      "metadata": {
        "colab": {
          "base_uri": "https://localhost:8080/"
        },
        "id": "74kTHgLfUsst",
        "outputId": "c61a809c-5da4-4e38-fd89-6aa3fad647c2"
      },
      "execution_count": 11,
      "outputs": [
        {
          "output_type": "execute_result",
          "data": {
            "text/plain": [
              "2005-07-01    0.878756\n",
              "2005-08-01    0.882167\n",
              "2005-09-01    0.973184\n",
              "2005-10-01    0.983678\n",
              "2005-11-01    0.849494\n",
              "Freq: MS, Name: pred, dtype: float64"
            ]
          },
          "metadata": {},
          "execution_count": 11
        }
      ]
    },
    {
      "cell_type": "code",
      "source": [
        "# Gráfico\n",
        "# ==============================================================================\n",
        "fig, ax = plt.subplots(figsize=(9, 4))\n",
        "datos_train['y'].plot(ax=ax, label='train')\n",
        "datos_test['y'].plot(ax=ax, label='test')\n",
        "predicciones.plot(ax=ax, label='predicciones')\n",
        "ax.legend();"
      ],
      "metadata": {
        "colab": {
          "base_uri": "https://localhost:8080/",
          "height": 279
        },
        "id": "9Hp7iBDjUxHe",
        "outputId": "7be122e5-6024-47b1-b031-b316c88c08ef"
      },
      "execution_count": 12,
      "outputs": [
        {
          "output_type": "display_data",
          "data": {
            "text/plain": [
              "<Figure size 648x288 with 1 Axes>"
            ],
            "image/png": "[encoded data removed]"
          },
          "metadata": {
            "needs_background": "light"
          }
        }
      ]
    },
    {
      "cell_type": "markdown",
      "source": [
        "# Error de las predicciones en el conjunto de test\n",
        "Se cuantifica el error que comete el modelo en sus predicciones. En este caso, se emplea como métrica el mean squared error (mse)."
      ],
      "metadata": {
        "id": "4p4XFhHHU1Uk"
      }
    },
    {
      "cell_type": "code",
      "source": [
        "# Error test\n",
        "# ==============================================================================\n",
        "error_mse = mean_squared_error(\n",
        "                y_true = datos_test['y'],\n",
        "                y_pred = predicciones\n",
        "            )\n",
        "\n",
        "print(f\"Error de test (mse): {error_mse}\")"
      ],
      "metadata": {
        "colab": {
          "base_uri": "https://localhost:8080/"
        },
        "id": "4MTuKSH8U9ZI",
        "outputId": "100b31fe-9b20-499a-f8c9-250ecbf1427f"
      },
      "execution_count": 14,
      "outputs": [
        {
          "output_type": "stream",
          "name": "stdout",
          "text": [
            "Error de test (mse): 0.07326833976120374\n"
          ]
        }
      ]
    },
    {
      "cell_type": "markdown",
      "source": [
        "# Ajuste de hiperparámetros (tuning)\n",
        "\n",
        "El ForecasterAutoreg entrenado ha utilizado una ventana temporal de 6 lags y un modelo Random Forest con los hiperparámetros por defecto. Sin embargo, no hay ninguna razón por la que estos valores sean los más adecuados. Para identificar la mejor combinación de lags e hiperparámetros, la librería Skforecast dispone de la función grid_search_forecaster con la que comparar los resultados obtenidos con cada configuración del modelo.\n",
        "\n",
        "Para una documentación más detallada, visitar:\n",
        "\n",
        "[grid_search_forecaster](https://joaquinamatrodrigo.github.io/skforecast/0.4.3/notebooks/grid-search-forecaster.html)"
      ],
      "metadata": {
        "id": "301NTtMXVD79"
      }
    },
    {
      "cell_type": "code",
      "source": [
        "# Grid search de hiperparámetros\n",
        "# ==============================================================================\n",
        "steps = 36\n",
        "forecaster = ForecasterAutoreg(\n",
        "                regressor = RandomForestRegressor(random_state=123),\n",
        "                lags      = 12 # Este valor será remplazado en el grid search\n",
        "             )\n",
        "\n",
        "# Lags utilizados como predictores\n",
        "lags_grid = [10, 20]\n",
        "\n",
        "# Hiperparámetros del regresor\n",
        "param_grid = {'n_estimators': [100, 500],\n",
        "              'max_depth': [3, 5, 10]}\n",
        "\n",
        "resultados_grid = grid_search_forecaster(\n",
        "                        forecaster         = forecaster,\n",
        "                        y                  = datos_train['y'],\n",
        "                        param_grid         = param_grid,\n",
        "                        lags_grid          = lags_grid,\n",
        "                        steps              = steps,\n",
        "                        refit              = True,\n",
        "                        metric             = 'mean_squared_error',\n",
        "                        initial_train_size = int(len(datos_train)*0.5),\n",
        "                        fixed_train_size   = False,\n",
        "                        return_best        = True,\n",
        "                        verbose            = False\n",
        "                   )"
      ],
      "metadata": {
        "colab": {
          "base_uri": "https://localhost:8080/"
        },
        "id": "lZygvnfRVXSG",
        "outputId": "8d3f70de-dbf3-4fc7-d006-7cf6f73cae9b"
      },
      "execution_count": 15,
      "outputs": [
        {
          "output_type": "stream",
          "name": "stdout",
          "text": [
            "Number of models compared: 12\n"
          ]
        },
        {
          "output_type": "stream",
          "name": "stderr",
          "text": [
            "loop lags_grid:   0%|                                               | 0/2 [00:00<?, ?it/s]\n",
            "loop param_grid:   0%|                                              | 0/6 [00:00<?, ?it/s]\u001b[A\n",
            "loop param_grid:  17%|██████▎                               | 1/6 [00:01<00:07,  1.53s/it]\u001b[A\n",
            "loop param_grid:  33%|████████████▋                         | 2/6 [00:06<00:15,  3.76s/it]\u001b[A\n",
            "loop param_grid:  50%|███████████████████                   | 3/6 [00:08<00:07,  2.58s/it]\u001b[A\n",
            "loop param_grid:  67%|█████████████████████████▎            | 4/6 [00:13<00:07,  3.77s/it]\u001b[A\n",
            "loop param_grid:  83%|███████████████████████████████▋      | 5/6 [00:14<00:02,  2.82s/it]\u001b[A\n",
            "loop param_grid: 100%|██████████████████████████████████████| 6/6 [00:21<00:00,  4.08s/it]\u001b[A\n",
            "loop lags_grid:  50%|███████████████████▌                   | 1/2 [00:21<00:21, 21.31s/it]\n",
            "loop param_grid:   0%|                                              | 0/6 [00:00<?, ?it/s]\u001b[A\n",
            "loop param_grid:  17%|██████▎                               | 1/6 [00:01<00:05,  1.12s/it]\u001b[A\n",
            "loop param_grid:  33%|████████████▋                         | 2/6 [00:07<00:17,  4.26s/it]\u001b[A\n",
            "loop param_grid:  67%|█████████████████████████▎            | 4/6 [00:14<00:07,  3.94s/it]\u001b[A\n",
            "loop param_grid:  83%|███████████████████████████████▋      | 5/6 [00:15<00:02,  2.95s/it]\u001b[A\n",
            "loop param_grid: 100%|██████████████████████████████████████| 6/6 [00:21<00:00,  3.88s/it]\u001b[A\n",
            "loop lags_grid: 100%|███████████████████████████████████████| 2/2 [00:42<00:00, 21.34s/it]\n"
          ]
        },
        {
          "output_type": "stream",
          "name": "stdout",
          "text": [
            "`Forecaster` refitted using the best-found lags and parameters, and the whole data set: \n",
            "  Lags: [ 1  2  3  4  5  6  7  8  9 10 11 12 13 14 15 16 17 18 19 20] \n",
            "  Parameters: {'max_depth': 3, 'n_estimators': 500}\n",
            "  Backtesting metric: 0.012836389345193383\n",
            "\n"
          ]
        }
      ]
    },
    {
      "cell_type": "markdown",
      "source": [
        "Los mejores resultados se obtienen si se utiliza una ventana temporal de 20 lags y una configuración de Random Forest {'max_depth': 3, 'n_estimators': 500}."
      ],
      "metadata": {
        "id": "mcXF77hvVeks"
      }
    },
    {
      "cell_type": "code",
      "source": [
        "# Resultados Grid Search\n",
        "# ==============================================================================\n",
        "resultados_grid"
      ],
      "metadata": {
        "id": "SFEYFPiNVbi0"
      },
      "execution_count": null,
      "outputs": []
    },
    {
      "cell_type": "markdown",
      "source": [
        "# Modelo final\n",
        "\n",
        "Finalmente, se entrena de nuevo un ForecasterAutoreg con la configuración óptima encontrada mediante validación. Este paso no es necesario si se indica return_best = True en la función grid_search_forecaster."
      ],
      "metadata": {
        "id": "eA6SXly5Vizy"
      }
    },
    {
      "cell_type": "code",
      "source": [
        "# Crear y entrenar forecaster con mejores hiperparámetros\n",
        "# ==============================================================================\n",
        "regressor = RandomForestRegressor(max_depth=3, n_estimators=500, random_state=123)\n",
        "forecaster = ForecasterAutoreg(\n",
        "                regressor = regressor,\n",
        "                lags      = 20\n",
        "             )\n",
        "\n",
        "forecaster.fit(y=datos_train['y'])"
      ],
      "metadata": {
        "id": "JRJPPAsUVocO"
      },
      "execution_count": 16,
      "outputs": []
    },
    {
      "cell_type": "code",
      "source": [
        "# Predicciones\n",
        "# ==============================================================================\n",
        "predicciones = forecaster.predict(steps=steps)"
      ],
      "metadata": {
        "id": "KVGwFAiyVqpU"
      },
      "execution_count": 17,
      "outputs": []
    },
    {
      "cell_type": "code",
      "source": [
        "# Gráfico\n",
        "# ==============================================================================\n",
        "fig, ax = plt.subplots(figsize=(9, 4))\n",
        "datos_train['y'].plot(ax=ax, label='train')\n",
        "datos_test['y'].plot(ax=ax, label='test')\n",
        "predicciones.plot(ax=ax, label='predicciones')\n",
        "ax.legend();"
      ],
      "metadata": {
        "colab": {
          "base_uri": "https://localhost:8080/",
          "height": 279
        },
        "id": "DvzM0wOnVs9P",
        "outputId": "e8f487ea-f860-4d59-8667-295784156fa8"
      },
      "execution_count": 18,
      "outputs": [
        {
          "output_type": "display_data",
          "data": {
            "text/plain": [
              "<Figure size 648x288 with 1 Axes>"
            ],
            "image/png": "[encoded data removed]"
          },
          "metadata": {
            "needs_background": "light"
          }
        }
      ]
    },
    {
      "cell_type": "code",
      "source": [
        "# Error de test\n",
        "# ==============================================================================\n",
        "error_mse = mean_squared_error(\n",
        "                y_true = datos_test['y'],\n",
        "                y_pred = predicciones\n",
        "            )\n",
        "\n",
        "print(f\"Error de test (mse) {error_mse}\")"
      ],
      "metadata": {
        "colab": {
          "base_uri": "https://localhost:8080/"
        },
        "id": "X9YSAKBSVvLB",
        "outputId": "fe2397b5-5df3-4019-9c9d-006e9c83b02e"
      },
      "execution_count": 19,
      "outputs": [
        {
          "output_type": "stream",
          "name": "stdout",
          "text": [
            "Error de test (mse) 0.004392699665157793\n"
          ]
        }
      ]
    },
    {
      "cell_type": "markdown",
      "source": [
        "Con la combinación óptima de hiperparámetros se consigue reducir notablemente el error de test.\n"
      ],
      "metadata": {
        "id": "uDd6kjNMVxPe"
      }
    },
    {
      "cell_type": "markdown",
      "source": [
        "# Backtesting\n",
        "\n",
        "El proceso de backtesting consiste en evaluar el comportamiento de un modelo predictivo al aplicarlo de forma retrospectiva sobre datos históricos. Por lo tanto, es una estrategia de validación que permite cuantificar la capacidad predictiva de un modelo.\n",
        "\n",
        "\n",
        "# Backtesting con reentrenamiento\n",
        "El modelo se entrena cada vez antes de realizar las predicciones, de esta forma, se incorpora toda la información disponible hasta el momento. Se trata de una adaptación del proceso de cross-validation en el que, en lugar de hacer un reparto aleatorio de las observaciones, el conjunto de entrenamiento se incrementa de manera secuencial, manteniendo el orden temporal de los datos.\n",
        "\n",
        "\n",
        "# Backtesting con reentrenamiento y tamaño de entrenamiento constante\n",
        "Similar a la estrategia anterior, pero, en este caso, el tamaño del conjunto de entrenamiento no se incrementa sino que la ventana de tiempo que abarca se desplaza. Esta estrategia se conoce también como time series cross-validation o walk-forward validation.\n",
        "\n",
        "# Backtesting sin reentrenamiento\n",
        "Con esta estrategia, el modelo se entrena una única vez con un conjunto inicial y se realizan las predicciones de forma secuencial sin actualizar el modelo y siguiendo el orden temporal de los datos. Esta estrategia tiene la ventaja de ser mucho más rápida puesto que el modelo solo se entrena una vez. La desventaja es que el modelo no incorpora la última información disponible por lo que puede perder capacidad predictiva con el tiempo.\n",
        "\n",
        "La librería skforecast tiene implementadas las estrategias de backtesting mencionadas. Independientemente de cuál se utilice, es importante no incluir los datos de test en el proceso de búsqueda para no caer en problemas de overfitting.\n",
        "\n",
        "Para este ejemplo, se sigue una estrategia de backtesting con reentrenamiento. Internamente, el proceso seguido por la función es el siguiente:\n",
        "\n",
        "\n",
        "\n",
        "*   En la primera iteración, el modelo se entrena con las observaciones Elemento de la lista seleccionadas para el entrenamiento inicial (en este caso, 87). Después, las siguientes 36 observaciones se utilizan para validar las predicciones de este primer modelo (también 36).\n",
        "\n",
        "* En la segunda iteración, se reentrena el modelo añadiendo, al conjunto de entrenamiento inicial, las 36 observaciones de validación anteriores (87 + 36). De la misma manera, se establece como nuevo conjunto de validación las 36 observaciones siguientes.\n",
        "\n",
        "* Este proceso se repite hasta que se utilizan todas las observaciones disponibles. Siguiendo esta estrategia, el conjunto de entrenamiento aumenta en cada iteración con tantas observaciones como steps se estén prediciendo."
      ],
      "metadata": {
        "id": "SmlEVlhxV0xB"
      }
    },
    {
      "cell_type": "code",
      "source": [
        "# Backtesting\n",
        "# ==============================================================================\n",
        "steps = 36\n",
        "n_backtesting = 36*3 # Se separan para el backtest los últimos 9 años\n",
        "\n",
        "metrica, predicciones_backtest = backtesting_forecaster(\n",
        "                                    forecaster         = forecaster,\n",
        "                                    y                  = datos['y'],\n",
        "                                    initial_train_size = len(datos) - n_backtesting,\n",
        "                                    fixed_train_size   = False,\n",
        "                                    steps              = steps,\n",
        "                                    refit              = True,\n",
        "                                    metric             = 'mean_squared_error',\n",
        "                                    verbose            = True\n",
        "                                 )\n",
        "\n",
        "print(f\"Error de backtest: {metrica}\")"
      ],
      "metadata": {
        "colab": {
          "base_uri": "https://localhost:8080/"
        },
        "id": "lVeJig1OWXoI",
        "outputId": "98ea67b1-a984-4d04-89ed-92cf35be6b37"
      },
      "execution_count": 20,
      "outputs": [
        {
          "output_type": "stream",
          "name": "stdout",
          "text": [
            "Information of backtesting process\n",
            "----------------------------------\n",
            "Number of observations used for initial training: 87\n",
            "Number of observations used for backtesting: 108\n",
            "    Number of folds: 3\n",
            "    Number of steps per fold: 36\n",
            "\n",
            "Data partition in fold: 0\n",
            "    Training:   1992-04-01 00:00:00 -- 1999-06-01 00:00:00\n",
            "    Validation: 1999-07-01 00:00:00 -- 2002-06-01 00:00:00\n",
            "Data partition in fold: 1\n",
            "    Training:   1992-04-01 00:00:00 -- 2002-06-01 00:00:00\n",
            "    Validation: 2002-07-01 00:00:00 -- 2005-06-01 00:00:00\n",
            "Data partition in fold: 2\n",
            "    Training:   1992-04-01 00:00:00 -- 2005-06-01 00:00:00\n",
            "    Validation: 2005-07-01 00:00:00 -- 2008-06-01 00:00:00\n",
            "\n",
            "Error de backtest: 0.010578977232387663\n"
          ]
        }
      ]
    },
    {
      "cell_type": "code",
      "source": [
        "fig, ax = plt.subplots(figsize=(9, 4))\n",
        "datos.loc[predicciones_backtest.index, 'y'].plot(ax=ax, label='test')\n",
        "predicciones_backtest.plot(ax=ax, label='predicciones')\n",
        "ax.legend();"
      ],
      "metadata": {
        "colab": {
          "base_uri": "https://localhost:8080/",
          "height": 279
        },
        "id": "yX5Q5PWeWaQy",
        "outputId": "9ccb8a58-9bd3-46ba-ae22-fbd68f1c7ef4"
      },
      "execution_count": 21,
      "outputs": [
        {
          "output_type": "display_data",
          "data": {
            "text/plain": [
              "<Figure size 648x288 with 1 Axes>"
            ],
            "image/png": "[encoded data removed]"
          },
          "metadata": {
            "needs_background": "light"
          }
        }
      ]
    },
    {
      "cell_type": "markdown",
      "source": [
        "# Importancia predictores\n",
        "\n",
        "Dado que el objeto ForecasterAutoreg utiliza modelos scikit-learn, una vez entrenado, se puede acceder a la importancia de los predictores. Cuando el regresor empleado es un LinearRegression, Lasso o Ridge, la importancia queda reflejada en los coeficientes del modelo. En regresores como GradientBoostingRegressor, RandomForestRegressor o HistGradientBoostingRegressor, la importancia de los predictores está basada en la reducción de impureza.\n",
        "\n",
        "Nota: el método get_feature_importance() solo devuelve valores si el regresor utilizado dentro del forecaster tiene el atributo coef_ o feature_importances_."
      ],
      "metadata": {
        "id": "INQrqqgGWdSK"
      }
    },
    {
      "cell_type": "code",
      "source": [
        "# Importancia predictores\n",
        "# ==============================================================================\n",
        "impotancia = forecaster.get_feature_importance()\n",
        "impotancia"
      ],
      "metadata": {
        "colab": {
          "base_uri": "https://localhost:8080/",
          "height": 677
        },
        "id": "1szC-oeUWhc7",
        "outputId": "caffd4c7-ef9e-42d4-ea56-45825a50e6da"
      },
      "execution_count": 22,
      "outputs": [
        {
          "output_type": "execute_result",
          "data": {
            "text/plain": [
              "   feature  importance\n",
              "0    lag_1    0.009412\n",
              "1    lag_2    0.087268\n",
              "2    lag_3    0.012754\n",
              "3    lag_4    0.001446\n",
              "4    lag_5    0.000401\n",
              "5    lag_6    0.001386\n",
              "6    lag_7    0.001273\n",
              "7    lag_8    0.006926\n",
              "8    lag_9    0.005839\n",
              "9   lag_10    0.013076\n",
              "10  lag_11    0.008868\n",
              "11  lag_12    0.816041\n",
              "12  lag_13    0.001266\n",
              "13  lag_14    0.019411\n",
              "14  lag_15    0.008746\n",
              "15  lag_16    0.001766\n",
              "16  lag_17    0.000578\n",
              "17  lag_18    0.000329\n",
              "18  lag_19    0.000853\n",
              "19  lag_20    0.002359"
            ],
            "text/html": [
              "\n",
              "  <div id=\"df-60d15c97-8a0b-4cff-bd6c-7f96d512be14\">\n",
              "    <div class=\"colab-df-container\">\n",
              "      <div>\n",
              "<style scoped>\n",
              "    .dataframe tbody tr th:only-of-type {\n",
              "        vertical-align: middle;\n",
              "    }\n",
              "\n",
              "    .dataframe tbody tr th {\n",
              "        vertical-align: top;\n",
              "    }\n",
              "\n",
              "    .dataframe thead th {\n",
              "        text-align: right;\n",
              "    }\n",
              "</style>\n",
              "<table border=\"1\" class=\"dataframe\">\n",
              "  <thead>\n",
              "    <tr style=\"text-align: right;\">\n",
              "      <th></th>\n",
              "      <th>feature</th>\n",
              "      <th>importance</th>\n",
              "    </tr>\n",
              "  </thead>\n",
              "  <tbody>\n",
              "    <tr>\n",
              "      <th>0</th>\n",
              "      <td>lag_1</td>\n",
              "      <td>0.009412</td>\n",
              "    </tr>\n",
              "    <tr>\n",
              "      <th>1</th>\n",
              "      <td>lag_2</td>\n",
              "      <td>0.087268</td>\n",
              "    </tr>\n",
              "    <tr>\n",
              "      <th>2</th>\n",
              "      <td>lag_3</td>\n",
              "      <td>0.012754</td>\n",
              "    </tr>\n",
              "    <tr>\n",
              "      <th>3</th>\n",
              "      <td>lag_4</td>\n",
              "      <td>0.001446</td>\n",
              "    </tr>\n",
              "    <tr>\n",
              "      <th>4</th>\n",
              "      <td>lag_5</td>\n",
              "      <td>0.000401</td>\n",
              "    </tr>\n",
              "    <tr>\n",
              "      <th>5</th>\n",
              "      <td>lag_6</td>\n",
              "      <td>0.001386</td>\n",
              "    </tr>\n",
              "    <tr>\n",
              "      <th>6</th>\n",
              "      <td>lag_7</td>\n",
              "      <td>0.001273</td>\n",
              "    </tr>\n",
              "    <tr>\n",
              "      <th>7</th>\n",
              "      <td>lag_8</td>\n",
              "      <td>0.006926</td>\n",
              "    </tr>\n",
              "    <tr>\n",
              "      <th>8</th>\n",
              "      <td>lag_9</td>\n",
              "      <td>0.005839</td>\n",
              "    </tr>\n",
              "    <tr>\n",
              "      <th>9</th>\n",
              "      <td>lag_10</td>\n",
              "      <td>0.013076</td>\n",
              "    </tr>\n",
              "    <tr>\n",
              "      <th>10</th>\n",
              "      <td>lag_11</td>\n",
              "      <td>0.008868</td>\n",
              "    </tr>\n",
              "    <tr>\n",
              "      <th>11</th>\n",
              "      <td>lag_12</td>\n",
              "      <td>0.816041</td>\n",
              "    </tr>\n",
              "    <tr>\n",
              "      <th>12</th>\n",
              "      <td>lag_13</td>\n",
              "      <td>0.001266</td>\n",
              "    </tr>\n",
              "    <tr>\n",
              "      <th>13</th>\n",
              "      <td>lag_14</td>\n",
              "      <td>0.019411</td>\n",
              "    </tr>\n",
              "    <tr>\n",
              "      <th>14</th>\n",
              "      <td>lag_15</td>\n",
              "      <td>0.008746</td>\n",
              "    </tr>\n",
              "    <tr>\n",
              "      <th>15</th>\n",
              "      <td>lag_16</td>\n",
              "      <td>0.001766</td>\n",
              "    </tr>\n",
              "    <tr>\n",
              "      <th>16</th>\n",
              "      <td>lag_17</td>\n",
              "      <td>0.000578</td>\n",
              "    </tr>\n",
              "    <tr>\n",
              "      <th>17</th>\n",
              "      <td>lag_18</td>\n",
              "      <td>0.000329</td>\n",
              "    </tr>\n",
              "    <tr>\n",
              "      <th>18</th>\n",
              "      <td>lag_19</td>\n",
              "      <td>0.000853</td>\n",
              "    </tr>\n",
              "    <tr>\n",
              "      <th>19</th>\n",
              "      <td>lag_20</td>\n",
              "      <td>0.002359</td>\n",
              "    </tr>\n",
              "  </tbody>\n",
              "</table>\n",
              "</div>\n",
              "      <button class=\"colab-df-convert\" onclick=\"convertToInteractive('df-60d15c97-8a0b-4cff-bd6c-7f96d512be14')\"\n",
              "              title=\"Convert this dataframe to an interactive table.\"\n",
              "              style=\"display:none;\">\n",
              "        \n",
              "  <svg xmlns=\"http://www.w3.org/2000/svg\" height=\"24px\"viewBox=\"0 0 24 24\"\n",
              "       width=\"24px\">\n",
              "    <path d=\"M0 0h24v24H0V0z\" fill=\"none\"/>\n",
              "    <path d=\"M18.56 5.44l.94 2.06.94-2.06 2.06-.94-2.06-.94-.94-2.06-.94 2.06-2.06.94zm-11 1L8.5 8.5l.94-2.06 2.06-.94-2.06-.94L8.5 2.5l-.94 2.06-2.06.94zm10 10l.94 2.06.94-2.06 2.06-.94-2.06-.94-.94-2.06-.94 2.06-2.06.94z\"/><path d=\"M17.41 7.96l-1.37-1.37c-.4-.4-.92-.59-1.43-.59-.52 0-1.04.2-1.43.59L10.3 9.45l-7.72 7.72c-.78.78-.78 2.05 0 2.83L4 21.41c.39.39.9.59 1.41.59.51 0 1.02-.2 1.41-.59l7.78-7.78 2.81-2.81c.8-.78.8-2.07 0-2.86zM5.41 20L4 18.59l7.72-7.72 1.47 1.35L5.41 20z\"/>\n",
              "  </svg>\n",
              "      </button>\n",
              "      \n",
              "  <style>\n",
              "    .colab-df-container {\n",
              "      display:flex;\n",
              "      flex-wrap:wrap;\n",
              "      gap: 12px;\n",
              "    }\n",
              "\n",
              "    .colab-df-convert {\n",
              "      background-color: #E8F0FE;\n",
              "      border: none;\n",
              "      border-radius: 50%;\n",
              "      cursor: pointer;\n",
              "      display: none;\n",
              "      fill: #1967D2;\n",
              "      height: 32px;\n",
              "      padding: 0 0 0 0;\n",
              "      width: 32px;\n",
              "    }\n",
              "\n",
              "    .colab-df-convert:hover {\n",
              "      background-color: #E2EBFA;\n",
              "      box-shadow: 0px 1px 2px rgba(60, 64, 67, 0.3), 0px 1px 3px 1px rgba(60, 64, 67, 0.15);\n",
              "      fill: #174EA6;\n",
              "    }\n",
              "\n",
              "    [theme=dark] .colab-df-convert {\n",
              "      background-color: #3B4455;\n",
              "      fill: #D2E3FC;\n",
              "    }\n",
              "\n",
              "    [theme=dark] .colab-df-convert:hover {\n",
              "      background-color: #434B5C;\n",
              "      box-shadow: 0px 1px 3px 1px rgba(0, 0, 0, 0.15);\n",
              "      filter: drop-shadow(0px 1px 2px rgba(0, 0, 0, 0.3));\n",
              "      fill: #FFFFFF;\n",
              "    }\n",
              "  </style>\n",
              "\n",
              "      <script>\n",
              "        const buttonEl =\n",
              "          document.querySelector('#df-60d15c97-8a0b-4cff-bd6c-7f96d512be14 button.colab-df-convert');\n",
              "        buttonEl.style.display =\n",
              "          google.colab.kernel.accessAllowed ? 'block' : 'none';\n",
              "\n",
              "        async function convertToInteractive(key) {\n",
              "          const element = document.querySelector('#df-60d15c97-8a0b-4cff-bd6c-7f96d512be14');\n",
              "          const dataTable =\n",
              "            await google.colab.kernel.invokeFunction('convertToInteractive',\n",
              "                                                     [key], {});\n",
              "          if (!dataTable) return;\n",
              "\n",
              "          const docLinkHtml = 'Like what you see? Visit the ' +\n",
              "            '<a target=\"_blank\" href=https://colab.research.google.com/notebooks/data_table.ipynb>data table notebook</a>'\n",
              "            + ' to learn more about interactive tables.';\n",
              "          element.innerHTML = '';\n",
              "          dataTable['output_type'] = 'display_data';\n",
              "          await google.colab.output.renderOutput(dataTable, element);\n",
              "          const docLink = document.createElement('div');\n",
              "          docLink.innerHTML = docLinkHtml;\n",
              "          element.appendChild(docLink);\n",
              "        }\n",
              "      </script>\n",
              "    </div>\n",
              "  </div>\n",
              "  "
            ]
          },
          "metadata": {},
          "execution_count": 22
        }
      ]
    },
    {
      "cell_type": "markdown",
      "source": [
        ""
      ],
      "metadata": {
        "id": "PI3V5frBWqnD"
      }
    },
    {
      "cell_type": "markdown",
      "source": [
        "# Forecasting autorregresivo recursivo con variables exógenas\n",
        "\n",
        "En el ejemplo anterior, se han utilizado como predictores únicamente lags de la propia variable predicha. En ciertos escenarios, es posible disponer de información sobre otras variables, cuyo valor a futuro se conoce, y pueden servir como predictoreres adicionales en el modelo.\n",
        "\n",
        "Siguiendo con el ejemplo anterior, se simula una nueva variable cuyo comportamiento está correlacionado con la serie temporal modelada y que, por lo tanto, se quiere incorporar como predictor. Esto mísmo es aplicable a múltiples variables exógenas."
      ],
      "metadata": {
        "id": "GSDPOe4jWkTk"
      }
    },
    {
      "cell_type": "markdown",
      "source": [
        "# Datos"
      ],
      "metadata": {
        "id": "hqMATIE9WpzJ"
      }
    },
    {
      "cell_type": "code",
      "source": [
        "# Descarga de datos\n",
        "# ==============================================================================\n",
        "url = 'https://raw.githubusercontent.com/JoaquinAmatRodrigo/skforecast/master/data/h2o_exog.csv'\n",
        "datos = pd.read_csv(url, sep=',')\n",
        "\n",
        "# Preparación del dato\n",
        "# ==============================================================================\n",
        "datos['fecha'] = pd.to_datetime(datos['fecha'], format='%Y/%m/%d')\n",
        "datos = datos.set_index('fecha')\n",
        "datos = datos.asfreq('MS')\n",
        "datos = datos.sort_index()\n",
        "\n",
        "fig, ax = plt.subplots(figsize=(9, 4))\n",
        "datos['y'].plot(ax=ax, label='y')\n",
        "datos['exog_1'].plot(ax=ax, label='variable exógena')\n",
        "ax.legend();"
      ],
      "metadata": {
        "colab": {
          "base_uri": "https://localhost:8080/",
          "height": 279
        },
        "id": "Cr6m27ObWsp3",
        "outputId": "0e0909ac-a85e-4880-d8fd-f00ae333ef58"
      },
      "execution_count": 23,
      "outputs": [
        {
          "output_type": "display_data",
          "data": {
            "text/plain": [
              "<Figure size 648x288 with 1 Axes>"
            ],
            "image/png": "[encoded data removed]"
          },
          "metadata": {
            "needs_background": "light"
          }
        }
      ]
    },
    {
      "cell_type": "code",
      "source": [
        "# Separación datos train-test\n",
        "# ==============================================================================\n",
        "steps = 36\n",
        "datos_train = datos[:-steps]\n",
        "datos_test  = datos[-steps:]\n",
        "\n",
        "print(f\"Fechas train : {datos_train.index.min()} --- {datos_train.index.max()}  (n={len(datos_train)})\")\n",
        "print(f\"Fechas test  : {datos_test.index.min()} --- {datos_test.index.max()}  (n={len(datos_test)})\")"
      ],
      "metadata": {
        "colab": {
          "base_uri": "https://localhost:8080/"
        },
        "id": "tzdFW9baWvAQ",
        "outputId": "a5e12a40-0028-4298-c77a-9715a3206975"
      },
      "execution_count": 24,
      "outputs": [
        {
          "output_type": "stream",
          "name": "stdout",
          "text": [
            "Fechas train : 1992-04-01 00:00:00 --- 2005-06-01 00:00:00  (n=159)\n",
            "Fechas test  : 2005-07-01 00:00:00 --- 2008-06-01 00:00:00  (n=36)\n"
          ]
        }
      ]
    },
    {
      "cell_type": "markdown",
      "source": [
        "# ForecasterAutoreg\n"
      ],
      "metadata": {
        "id": "MNwW-ptvWw1n"
      }
    },
    {
      "cell_type": "code",
      "source": [
        "# Crear y entrenar forecaster\n",
        "# ==============================================================================\n",
        "forecaster = ForecasterAutoreg(\n",
        "                regressor = RandomForestRegressor(random_state=123),\n",
        "                lags      = 8\n",
        "             )\n",
        "\n",
        "forecaster.fit(y=datos_train['y'], exog=datos_train['exog_1'])\n",
        "forecaster"
      ],
      "metadata": {
        "colab": {
          "base_uri": "https://localhost:8080/"
        },
        "id": "3dRlz0SjW3FO",
        "outputId": "c2a7671e-3850-427b-e615-af65eed720d3"
      },
      "execution_count": 25,
      "outputs": [
        {
          "output_type": "execute_result",
          "data": {
            "text/plain": [
              "================= \n",
              "ForecasterAutoreg \n",
              "================= \n",
              "Regressor: RandomForestRegressor(random_state=123) \n",
              "Lags: [1 2 3 4 5 6 7 8] \n",
              "Window size: 8 \n",
              "Included exogenous: True \n",
              "Type of exogenous variable: <class 'pandas.core.series.Series'> \n",
              "Exogenous variables names: exog_1 \n",
              "Training range: [Timestamp('1992-04-01 00:00:00'), Timestamp('2005-06-01 00:00:00')] \n",
              "Training index type: DatetimeIndex \n",
              "Training index frequency: MS \n",
              "Regressor parameters: {'bootstrap': True, 'ccp_alpha': 0.0, 'criterion': 'squared_error', 'max_depth': None, 'max_features': 'auto', 'max_leaf_nodes': None, 'max_samples': None, 'min_impurity_decrease': 0.0, 'min_samples_leaf': 1, 'min_samples_split': 2, 'min_weight_fraction_leaf': 0.0, 'n_estimators': 100, 'n_jobs': None, 'oob_score': False, 'random_state': 123, 'verbose': 0, 'warm_start': False} \n",
              "Creation date: 2022-08-09 06:47:16 \n",
              "Last fit date: 2022-08-09 06:47:16 \n",
              "Skforecast version: 0.4.3 "
            ]
          },
          "metadata": {},
          "execution_count": 25
        }
      ]
    },
    {
      "cell_type": "markdown",
      "source": [
        "# Predicciones\n",
        "\n",
        "Si el ForecasterAutoreg se entrena con una variable exógena, hay que pasarle el valor de esta variable al predict(). Por lo tanto, solo es aplicable a escenarios en los que se dispone de información a futuro de la variable exógena."
      ],
      "metadata": {
        "id": "zvZ1cULMW6UP"
      }
    },
    {
      "cell_type": "code",
      "source": [
        "# Predicciones\n",
        "# ==============================================================================\n",
        "predicciones = forecaster.predict(steps=steps, exog=datos_test['exog_1'])"
      ],
      "metadata": {
        "id": "HQ9BG_HiW9BJ"
      },
      "execution_count": 26,
      "outputs": []
    },
    {
      "cell_type": "code",
      "source": [
        "# Gráfico\n",
        "# ==============================================================================\n",
        "fig, ax=plt.subplots(figsize=(9, 4))\n",
        "datos_train['y'].plot(ax=ax, label='train')\n",
        "datos_test['y'].plot(ax=ax, label='test')\n",
        "predicciones.plot(ax=ax, label='predicciones')\n",
        "ax.legend();"
      ],
      "metadata": {
        "colab": {
          "base_uri": "https://localhost:8080/",
          "height": 279
        },
        "id": "vWtEE2AMW_j6",
        "outputId": "45639c3d-8780-443d-817a-bcdb82c945de"
      },
      "execution_count": 27,
      "outputs": [
        {
          "output_type": "display_data",
          "data": {
            "text/plain": [
              "<Figure size 648x288 with 1 Axes>"
            ],
            "image/png": "[encoded data removed]"
          },
          "metadata": {
            "needs_background": "light"
          }
        }
      ]
    },
    {
      "cell_type": "markdown",
      "source": [
        "# Error de las predicciones en el conjunto de test"
      ],
      "metadata": {
        "id": "jVFsvFzOXEAo"
      }
    },
    {
      "cell_type": "code",
      "source": [
        "# Error test\n",
        "# ==============================================================================\n",
        "error_mse = mean_squared_error(\n",
        "                y_true = datos_test['y'],\n",
        "                y_pred = predicciones\n",
        "            )\n",
        "\n",
        "print(f\"Error de test (mse): {error_mse}\")"
      ],
      "metadata": {
        "colab": {
          "base_uri": "https://localhost:8080/"
        },
        "id": "5keKOdNiXGr6",
        "outputId": "63ca56a5-f807-402e-e55c-210e0d1cfb67"
      },
      "execution_count": 28,
      "outputs": [
        {
          "output_type": "stream",
          "name": "stdout",
          "text": [
            "Error de test (mse): 0.03989087922533575\n"
          ]
        }
      ]
    },
    {
      "cell_type": "markdown",
      "source": [
        "# Tuning del modelo"
      ],
      "metadata": {
        "id": "CQXVPWy9XJTi"
      }
    },
    {
      "cell_type": "code",
      "source": [
        "\n",
        "# Grid search de hiperparámetros\n",
        "# ==============================================================================\n",
        "steps = 36\n",
        "forecaster = ForecasterAutoreg(\n",
        "                regressor = RandomForestRegressor(random_state=123),\n",
        "                lags      = 12 # Este valor será remplazado en el grid search\n",
        "             )\n",
        "\n",
        "lags_grid = [5, 12, 20]\n",
        "\n",
        "param_grid = {'n_estimators': [50, 100, 500],\n",
        "              'max_depth': [3, 5, 10]}\n",
        "\n",
        "resultados_grid = grid_search_forecaster(\n",
        "                        forecaster         = forecaster,\n",
        "                        y                  = datos_train['y'],\n",
        "                        exog               = datos_train['exog_1'],\n",
        "                        param_grid         = param_grid,\n",
        "                        lags_grid          = lags_grid,\n",
        "                        steps              = steps,\n",
        "                        refit              = True,\n",
        "                        metric             = 'mean_squared_error',\n",
        "                        initial_train_size = int(len(datos_train)*0.5),\n",
        "                        fixed_train_size   = False,\n",
        "                        return_best        = True,\n",
        "                        verbose            = False\n",
        "                    )"
      ],
      "metadata": {
        "colab": {
          "base_uri": "https://localhost:8080/"
        },
        "id": "zECSDo_7XOLL",
        "outputId": "6e0ea0fe-4901-4e08-b1f2-bc6505f65b95"
      },
      "execution_count": 30,
      "outputs": [
        {
          "output_type": "stream",
          "name": "stdout",
          "text": [
            "Number of models compared: 27\n"
          ]
        },
        {
          "output_type": "stream",
          "name": "stderr",
          "text": [
            "loop lags_grid:   0%|                                               | 0/3 [00:00<?, ?it/s]\n",
            "loop param_grid:   0%|                                              | 0/9 [00:00<?, ?it/s]\u001b[A\n",
            "loop param_grid:  11%|████▏                                 | 1/9 [00:00<00:04,  1.94it/s]\u001b[A\n",
            "loop param_grid:  22%|████████▍                             | 2/9 [00:01<00:05,  1.22it/s]\u001b[A\n",
            "loop param_grid:  33%|████████████▋                         | 3/9 [00:07<00:20,  3.36s/it]\u001b[A\n",
            "loop param_grid:  44%|████████████████▉                     | 4/9 [00:08<00:11,  2.26s/it]\u001b[A\n",
            "loop param_grid:  56%|█████████████████████                 | 5/9 [00:09<00:07,  1.84s/it]\u001b[A\n",
            "loop param_grid:  67%|█████████████████████████▎            | 6/9 [00:14<00:08,  2.95s/it]\u001b[A\n",
            "loop param_grid:  78%|█████████████████████████████▌        | 7/9 [00:15<00:04,  2.17s/it]\u001b[A\n",
            "loop param_grid:  89%|█████████████████████████████████▊    | 8/9 [00:16<00:01,  1.81s/it]\u001b[A\n",
            "loop param_grid: 100%|██████████████████████████████████████| 9/9 [00:21<00:00,  2.93s/it]\u001b[A\n",
            "loop lags_grid:  33%|█████████████                          | 1/3 [00:21<00:43, 21.71s/it]\n",
            "loop param_grid:   0%|                                              | 0/9 [00:00<?, ?it/s]\u001b[A\n",
            "loop param_grid:  11%|████▏                                 | 1/9 [00:00<00:04,  1.71it/s]\u001b[A\n",
            "loop param_grid:  22%|████████▍                             | 2/9 [00:01<00:06,  1.11it/s]\u001b[A\n",
            "loop param_grid:  33%|████████████▋                         | 3/9 [00:07<00:18,  3.01s/it]\u001b[A\n",
            "loop param_grid:  44%|████████████████▉                     | 4/9 [00:08<00:10,  2.19s/it]\u001b[A\n",
            "loop param_grid:  56%|█████████████████████                 | 5/9 [00:09<00:07,  1.90s/it]\u001b[A\n",
            "loop param_grid:  67%|█████████████████████████▎            | 6/9 [00:15<00:09,  3.11s/it]\u001b[A\n",
            "loop param_grid:  78%|█████████████████████████████▌        | 7/9 [00:16<00:04,  2.43s/it]\u001b[A\n",
            "loop param_grid:  89%|█████████████████████████████████▊    | 8/9 [00:17<00:02,  2.20s/it]\u001b[A\n",
            "loop param_grid: 100%|██████████████████████████████████████| 9/9 [00:23<00:00,  3.29s/it]\u001b[A\n",
            "loop lags_grid:  67%|██████████████████████████             | 2/3 [00:45<00:22, 22.74s/it]\n",
            "loop param_grid:   0%|                                              | 0/9 [00:00<?, ?it/s]\u001b[A\n",
            "loop param_grid:  11%|████▏                                 | 1/9 [00:00<00:04,  1.70it/s]\u001b[A\n",
            "loop param_grid:  22%|████████▍                             | 2/9 [00:02<00:08,  1.20s/it]\u001b[A\n",
            "loop param_grid:  33%|████████████▋                         | 3/9 [00:08<00:19,  3.30s/it]\u001b[A\n",
            "loop param_grid:  44%|████████████████▉                     | 4/9 [00:08<00:11,  2.23s/it]\u001b[A\n",
            "loop param_grid:  56%|█████████████████████                 | 5/9 [00:09<00:07,  1.86s/it]\u001b[A\n",
            "loop param_grid:  67%|█████████████████████████▎            | 6/9 [00:16<00:10,  3.39s/it]\u001b[A\n",
            "loop param_grid:  78%|█████████████████████████████▌        | 7/9 [00:16<00:04,  2.48s/it]\u001b[A\n",
            "loop param_grid:  89%|█████████████████████████████████▊    | 8/9 [00:17<00:02,  2.08s/it]\u001b[A\n",
            "loop param_grid: 100%|██████████████████████████████████████| 9/9 [00:25<00:00,  3.70s/it]\u001b[A\n",
            "loop lags_grid: 100%|███████████████████████████████████████| 3/3 [01:10<00:00, 23.48s/it]"
          ]
        },
        {
          "output_type": "stream",
          "name": "stdout",
          "text": [
            "`Forecaster` refitted using the best-found lags and parameters, and the whole data set: \n",
            "  Lags: [ 1  2  3  4  5  6  7  8  9 10 11 12] \n",
            "  Parameters: {'max_depth': 10, 'n_estimators': 50}\n",
            "  Backtesting metric: 0.011894059611047655\n",
            "\n"
          ]
        },
        {
          "output_type": "stream",
          "name": "stderr",
          "text": [
            "\n"
          ]
        }
      ]
    },
    {
      "cell_type": "code",
      "source": [
        "# Resultados Grid Search\n",
        "# ==============================================================================\n",
        "resultados_grid.head()"
      ],
      "metadata": {
        "colab": {
          "base_uri": "https://localhost:8080/",
          "height": 206
        },
        "id": "2yTsSoiAXQtm",
        "outputId": "0e38b5ba-426b-48a5-cb89-42c00d30c66d"
      },
      "execution_count": 31,
      "outputs": [
        {
          "output_type": "execute_result",
          "data": {
            "text/plain": [
              "                                                 lags  \\\n",
              "15            [1, 2, 3, 4, 5, 6, 7, 8, 9, 10, 11, 12]   \n",
              "16            [1, 2, 3, 4, 5, 6, 7, 8, 9, 10, 11, 12]   \n",
              "9             [1, 2, 3, 4, 5, 6, 7, 8, 9, 10, 11, 12]   \n",
              "20  [1, 2, 3, 4, 5, 6, 7, 8, 9, 10, 11, 12, 13, 14...   \n",
              "17            [1, 2, 3, 4, 5, 6, 7, 8, 9, 10, 11, 12]   \n",
              "\n",
              "                                    params    metric  max_depth  n_estimators  \n",
              "15   {'max_depth': 10, 'n_estimators': 50}  0.011894         10            50  \n",
              "16  {'max_depth': 10, 'n_estimators': 100}  0.012698         10           100  \n",
              "9     {'max_depth': 3, 'n_estimators': 50}  0.012836          3            50  \n",
              "20   {'max_depth': 3, 'n_estimators': 500}  0.012845          3           500  \n",
              "17  {'max_depth': 10, 'n_estimators': 500}  0.012945         10           500  "
            ],
            "text/html": [
              "\n",
              "  <div id=\"df-ec234598-9be5-4ac4-a342-88c57d3536bb\">\n",
              "    <div class=\"colab-df-container\">\n",
              "      <div>\n",
              "<style scoped>\n",
              "    .dataframe tbody tr th:only-of-type {\n",
              "        vertical-align: middle;\n",
              "    }\n",
              "\n",
              "    .dataframe tbody tr th {\n",
              "        vertical-align: top;\n",
              "    }\n",
              "\n",
              "    .dataframe thead th {\n",
              "        text-align: right;\n",
              "    }\n",
              "</style>\n",
              "<table border=\"1\" class=\"dataframe\">\n",
              "  <thead>\n",
              "    <tr style=\"text-align: right;\">\n",
              "      <th></th>\n",
              "      <th>lags</th>\n",
              "      <th>params</th>\n",
              "      <th>metric</th>\n",
              "      <th>max_depth</th>\n",
              "      <th>n_estimators</th>\n",
              "    </tr>\n",
              "  </thead>\n",
              "  <tbody>\n",
              "    <tr>\n",
              "      <th>15</th>\n",
              "      <td>[1, 2, 3, 4, 5, 6, 7, 8, 9, 10, 11, 12]</td>\n",
              "      <td>{'max_depth': 10, 'n_estimators': 50}</td>\n",
              "      <td>0.011894</td>\n",
              "      <td>10</td>\n",
              "      <td>50</td>\n",
              "    </tr>\n",
              "    <tr>\n",
              "      <th>16</th>\n",
              "      <td>[1, 2, 3, 4, 5, 6, 7, 8, 9, 10, 11, 12]</td>\n",
              "      <td>{'max_depth': 10, 'n_estimators': 100}</td>\n",
              "      <td>0.012698</td>\n",
              "      <td>10</td>\n",
              "      <td>100</td>\n",
              "    </tr>\n",
              "    <tr>\n",
              "      <th>9</th>\n",
              "      <td>[1, 2, 3, 4, 5, 6, 7, 8, 9, 10, 11, 12]</td>\n",
              "      <td>{'max_depth': 3, 'n_estimators': 50}</td>\n",
              "      <td>0.012836</td>\n",
              "      <td>3</td>\n",
              "      <td>50</td>\n",
              "    </tr>\n",
              "    <tr>\n",
              "      <th>20</th>\n",
              "      <td>[1, 2, 3, 4, 5, 6, 7, 8, 9, 10, 11, 12, 13, 14...</td>\n",
              "      <td>{'max_depth': 3, 'n_estimators': 500}</td>\n",
              "      <td>0.012845</td>\n",
              "      <td>3</td>\n",
              "      <td>500</td>\n",
              "    </tr>\n",
              "    <tr>\n",
              "      <th>17</th>\n",
              "      <td>[1, 2, 3, 4, 5, 6, 7, 8, 9, 10, 11, 12]</td>\n",
              "      <td>{'max_depth': 10, 'n_estimators': 500}</td>\n",
              "      <td>0.012945</td>\n",
              "      <td>10</td>\n",
              "      <td>500</td>\n",
              "    </tr>\n",
              "  </tbody>\n",
              "</table>\n",
              "</div>\n",
              "      <button class=\"colab-df-convert\" onclick=\"convertToInteractive('df-ec234598-9be5-4ac4-a342-88c57d3536bb')\"\n",
              "              title=\"Convert this dataframe to an interactive table.\"\n",
              "              style=\"display:none;\">\n",
              "        \n",
              "  <svg xmlns=\"http://www.w3.org/2000/svg\" height=\"24px\"viewBox=\"0 0 24 24\"\n",
              "       width=\"24px\">\n",
              "    <path d=\"M0 0h24v24H0V0z\" fill=\"none\"/>\n",
              "    <path d=\"M18.56 5.44l.94 2.06.94-2.06 2.06-.94-2.06-.94-.94-2.06-.94 2.06-2.06.94zm-11 1L8.5 8.5l.94-2.06 2.06-.94-2.06-.94L8.5 2.5l-.94 2.06-2.06.94zm10 10l.94 2.06.94-2.06 2.06-.94-2.06-.94-.94-2.06-.94 2.06-2.06.94z\"/><path d=\"M17.41 7.96l-1.37-1.37c-.4-.4-.92-.59-1.43-.59-.52 0-1.04.2-1.43.59L10.3 9.45l-7.72 7.72c-.78.78-.78 2.05 0 2.83L4 21.41c.39.39.9.59 1.41.59.51 0 1.02-.2 1.41-.59l7.78-7.78 2.81-2.81c.8-.78.8-2.07 0-2.86zM5.41 20L4 18.59l7.72-7.72 1.47 1.35L5.41 20z\"/>\n",
              "  </svg>\n",
              "      </button>\n",
              "      \n",
              "  <style>\n",
              "    .colab-df-container {\n",
              "      display:flex;\n",
              "      flex-wrap:wrap;\n",
              "      gap: 12px;\n",
              "    }\n",
              "\n",
              "    .colab-df-convert {\n",
              "      background-color: #E8F0FE;\n",
              "      border: none;\n",
              "      border-radius: 50%;\n",
              "      cursor: pointer;\n",
              "      display: none;\n",
              "      fill: #1967D2;\n",
              "      height: 32px;\n",
              "      padding: 0 0 0 0;\n",
              "      width: 32px;\n",
              "    }\n",
              "\n",
              "    .colab-df-convert:hover {\n",
              "      background-color: #E2EBFA;\n",
              "      box-shadow: 0px 1px 2px rgba(60, 64, 67, 0.3), 0px 1px 3px 1px rgba(60, 64, 67, 0.15);\n",
              "      fill: #174EA6;\n",
              "    }\n",
              "\n",
              "    [theme=dark] .colab-df-convert {\n",
              "      background-color: #3B4455;\n",
              "      fill: #D2E3FC;\n",
              "    }\n",
              "\n",
              "    [theme=dark] .colab-df-convert:hover {\n",
              "      background-color: #434B5C;\n",
              "      box-shadow: 0px 1px 3px 1px rgba(0, 0, 0, 0.15);\n",
              "      filter: drop-shadow(0px 1px 2px rgba(0, 0, 0, 0.3));\n",
              "      fill: #FFFFFF;\n",
              "    }\n",
              "  </style>\n",
              "\n",
              "      <script>\n",
              "        const buttonEl =\n",
              "          document.querySelector('#df-ec234598-9be5-4ac4-a342-88c57d3536bb button.colab-df-convert');\n",
              "        buttonEl.style.display =\n",
              "          google.colab.kernel.accessAllowed ? 'block' : 'none';\n",
              "\n",
              "        async function convertToInteractive(key) {\n",
              "          const element = document.querySelector('#df-ec234598-9be5-4ac4-a342-88c57d3536bb');\n",
              "          const dataTable =\n",
              "            await google.colab.kernel.invokeFunction('convertToInteractive',\n",
              "                                                     [key], {});\n",
              "          if (!dataTable) return;\n",
              "\n",
              "          const docLinkHtml = 'Like what you see? Visit the ' +\n",
              "            '<a target=\"_blank\" href=https://colab.research.google.com/notebooks/data_table.ipynb>data table notebook</a>'\n",
              "            + ' to learn more about interactive tables.';\n",
              "          element.innerHTML = '';\n",
              "          dataTable['output_type'] = 'display_data';\n",
              "          await google.colab.output.renderOutput(dataTable, element);\n",
              "          const docLink = document.createElement('div');\n",
              "          docLink.innerHTML = docLinkHtml;\n",
              "          element.appendChild(docLink);\n",
              "        }\n",
              "      </script>\n",
              "    </div>\n",
              "  </div>\n",
              "  "
            ]
          },
          "metadata": {},
          "execution_count": 31
        }
      ]
    },
    {
      "cell_type": "markdown",
      "source": [
        "Los mejores resultados se obtienen utilizando una ventana temporal de 12 lags y una configuración de Random Forest {'max_depth': 10, 'n_estimators': 50}.\n",
        "\n"
      ],
      "metadata": {
        "id": "tiEWKwtGXXNQ"
      }
    },
    {
      "cell_type": "markdown",
      "source": [
        "# Modelo final\n",
        "\n",
        "Como se ha indicado return_best = True en grid_search_forecaster, tras la búsqueda, el objeto ForecasterAutoreg ha sido modificado y entrenado con la mejor combinación encontrada."
      ],
      "metadata": {
        "id": "-RR7xcgMXbZk"
      }
    },
    {
      "cell_type": "code",
      "source": [
        "# Predicciones\n",
        "# ==============================================================================\n",
        "predicciones = forecaster.predict(steps=steps, exog=datos_test['exog_1'])\n",
        "\n",
        "# Gráfico\n",
        "# ==============================================================================\n",
        "fig, ax=plt.subplots(figsize=(9, 4))\n",
        "datos_train['y'].plot(ax=ax, label='train')\n",
        "datos_test['y'].plot(ax=ax, label='test')\n",
        "predicciones.plot(ax=ax, label='predicciones')\n",
        "ax.legend();"
      ],
      "metadata": {
        "colab": {
          "base_uri": "https://localhost:8080/",
          "height": 279
        },
        "id": "ytlHi7uVXhMU",
        "outputId": "b32c141c-15b5-4175-9ae2-a331ae742f8d"
      },
      "execution_count": 32,
      "outputs": [
        {
          "output_type": "display_data",
          "data": {
            "text/plain": [
              "<Figure size 648x288 with 1 Axes>"
            ],
            "image/png": "[encoded data removed]"
          },
          "metadata": {
            "needs_background": "light"
          }
        }
      ]
    },
    {
      "cell_type": "code",
      "source": [
        "# Error test\n",
        "# ==============================================================================\n",
        "error_mse = mean_squared_error(y_true = datos_test['y'], y_pred = predicciones)\n",
        "print(f\"Error de test (mse) {error_mse}\")"
      ],
      "metadata": {
        "colab": {
          "base_uri": "https://localhost:8080/"
        },
        "id": "2tKqpa_OXjKI",
        "outputId": "5cf1e49c-04d2-4639-8afc-fa8133647df7"
      },
      "execution_count": 33,
      "outputs": [
        {
          "output_type": "stream",
          "name": "stdout",
          "text": [
            "Error de test (mse) 0.0044949967759907675\n"
          ]
        }
      ]
    },
    {
      "cell_type": "markdown",
      "source": [
        "# Forecasting autorregresivo recursivo con predictores custom\n",
        "\n",
        "En determinados escenarios, puede ser interesante incorporar otras características de la serie temporal además de los lags, por ejemplo, la media movil de los últimos n valores puede servir para capturar la tendencia de la serie.\n",
        "\n",
        "La clase ForecasterAutoregCustom se comporta de forma muy similar a la clase ForecasterAutoreg vista en los apartados anteriores pero con la diferencia de que, es el usuario, quien define la función empleada para crear los predictores.\n",
        "\n",
        "Se repite el primer ejemplo del documento, predecir los últimos 36 meses de la serie temporal, pero esta vez, utilizando como predictores los 10 primeros lags y la media móvil de los últimos 20 meses."
      ],
      "metadata": {
        "id": "otE75c7iXlf8"
      }
    },
    {
      "cell_type": "markdown",
      "source": [
        "# Datos"
      ],
      "metadata": {
        "id": "q2bQQOn-XrUF"
      }
    },
    {
      "cell_type": "code",
      "source": [
        "# Descarga de datos\n",
        "# ==============================================================================\n",
        "url = 'https://raw.githubusercontent.com/JoaquinAmatRodrigo/skforecast/master/data/h2o_exog.csv'\n",
        "datos = pd.read_csv(url, sep=',')\n",
        "\n",
        "# Preparación del dato\n",
        "# ==============================================================================\n",
        "datos['fecha'] = pd.to_datetime(datos['fecha'], format='%Y/%m/%d')\n",
        "datos = datos.set_index('fecha')\n",
        "datos = datos.rename(columns={'x': 'y'})\n",
        "datos = datos.asfreq('MS')\n",
        "datos = datos.sort_index()\n",
        "\n",
        "# Separación datos train-test\n",
        "# ==============================================================================\n",
        "steps = 36\n",
        "datos_train = datos[:-steps]\n",
        "datos_test  = datos[-steps:]\n",
        "\n",
        "print(f\"Fechas train : {datos_train.index.min()} --- {datos_train.index.max()}  (n={len(datos_train)})\")\n",
        "print(f\"Fechas test  : {datos_test.index.min()} --- {datos_test.index.max()}  (n={len(datos_test)})\")"
      ],
      "metadata": {
        "colab": {
          "base_uri": "https://localhost:8080/"
        },
        "id": "4bvMTxPPXstw",
        "outputId": "5c8625b8-68f0-4787-c559-51d9196a2ce1"
      },
      "execution_count": 34,
      "outputs": [
        {
          "output_type": "stream",
          "name": "stdout",
          "text": [
            "Fechas train : 1992-04-01 00:00:00 --- 2005-06-01 00:00:00  (n=159)\n",
            "Fechas test  : 2005-07-01 00:00:00 --- 2008-06-01 00:00:00  (n=36)\n"
          ]
        }
      ]
    },
    {
      "cell_type": "markdown",
      "source": [
        "# ForecasterAutoregCustom\n",
        "\n",
        "Se crea y entrena un ForecasterAutoregCustom a partir de un regresor RandomForestRegressor. Para crear los predictores, se emplea la función create_predictors() que calcula los primeros 10 lags y la media móvil de los últimos 20 valores."
      ],
      "metadata": {
        "id": "3FOvj6OaXv6y"
      }
    },
    {
      "cell_type": "code",
      "source": [
        "# Función para calcular los predictores a partir de la serie temporal\n",
        "# ==============================================================================\n",
        "def custom_predictors(y):\n",
        "    '''\n",
        "    Create first 10 lags of a time series.\n",
        "    Calculate moving average with window 20.\n",
        "    '''\n",
        "    \n",
        "    lags = y[-1:-11:-1]\n",
        "    mean = np.mean(y[-20:])\n",
        "    predictors = np.hstack([lags, mean])\n",
        "    \n",
        "    return predictors"
      ],
      "metadata": {
        "id": "PK9XTbxIX0hW"
      },
      "execution_count": 35,
      "outputs": []
    },
    {
      "cell_type": "markdown",
      "source": [
        "Al crear el forecaster, el argumento window_size debe ser un valor, como mínimo, tan grande como la ventana que utiliza la función que crea los predictores. En este caso 20."
      ],
      "metadata": {
        "id": "qvKt-V_YX2dS"
      }
    },
    {
      "cell_type": "code",
      "source": [
        "# Crear y entrenar forecaster\n",
        "# ==============================================================================\n",
        "forecaster = ForecasterAutoregCustom(\n",
        "                regressor      = RandomForestRegressor(random_state=123),\n",
        "                fun_predictors = custom_predictors,\n",
        "                window_size    = 20\n",
        "             )\n",
        "\n",
        "forecaster.fit(y=datos_train['y'])\n",
        "forecaster"
      ],
      "metadata": {
        "colab": {
          "base_uri": "https://localhost:8080/"
        },
        "id": "0fp_Go-gX4wV",
        "outputId": "21120367-bf38-428f-bf65-726a3720a8f2"
      },
      "execution_count": 36,
      "outputs": [
        {
          "output_type": "execute_result",
          "data": {
            "text/plain": [
              "======================= \n",
              "ForecasterAutoregCustom \n",
              "======================= \n",
              "Regressor: RandomForestRegressor(random_state=123) \n",
              "Predictors created with function: custom_predictors \n",
              "Window size: 20 \n",
              "Included exogenous: False \n",
              "Type of exogenous variable: None \n",
              "Exogenous variables names: None \n",
              "Training range: [Timestamp('1992-04-01 00:00:00'), Timestamp('2005-06-01 00:00:00')] \n",
              "Training index type: DatetimeIndex \n",
              "Training index frequency: MS \n",
              "Regressor parameters: {'bootstrap': True, 'ccp_alpha': 0.0, 'criterion': 'squared_error', 'max_depth': None, 'max_features': 'auto', 'max_leaf_nodes': None, 'max_samples': None, 'min_impurity_decrease': 0.0, 'min_samples_leaf': 1, 'min_samples_split': 2, 'min_weight_fraction_leaf': 0.0, 'n_estimators': 100, 'n_jobs': None, 'oob_score': False, 'random_state': 123, 'verbose': 0, 'warm_start': False} \n",
              "Creation date: 2022-08-09 06:51:40 \n",
              "Last fit date: 2022-08-09 06:51:41 \n",
              "Skforecast version: 0.4.3 "
            ]
          },
          "metadata": {},
          "execution_count": 36
        }
      ]
    },
    {
      "cell_type": "markdown",
      "source": [
        "Se puede acceder al código de la función utilizada para crear lo predictores.\n",
        "\n"
      ],
      "metadata": {
        "id": "vly2kCtqX62X"
      }
    },
    {
      "cell_type": "code",
      "source": [
        "print(forecaster.source_code_create_predictors)\n"
      ],
      "metadata": {
        "colab": {
          "base_uri": "https://localhost:8080/"
        },
        "id": "xRtaV5i4X7R4",
        "outputId": "8f007b98-3d42-420d-f2ce-ae759a2e0a4f"
      },
      "execution_count": 37,
      "outputs": [
        {
          "output_type": "stream",
          "name": "stdout",
          "text": [
            "def custom_predictors(y):\n",
            "    '''\n",
            "    Create first 10 lags of a time series.\n",
            "    Calculate moving average with window 20.\n",
            "    '''\n",
            "    \n",
            "    lags = y[-1:-11:-1]\n",
            "    mean = np.mean(y[-20:])\n",
            "    predictors = np.hstack([lags, mean])\n",
            "    \n",
            "    return predictors\n",
            "\n"
          ]
        }
      ]
    },
    {
      "cell_type": "markdown",
      "source": [
        "Mediante el método create_train_X_y, se puede acceder a las matrices que se crean internamente en el proceso de entrenamiento del forecaster."
      ],
      "metadata": {
        "id": "4W70LeKJX_Z6"
      }
    },
    {
      "cell_type": "code",
      "source": [
        "X, y = forecaster.create_train_X_y(y=datos_train['y'])\n",
        "X.head(4)"
      ],
      "metadata": {
        "colab": {
          "base_uri": "https://localhost:8080/",
          "height": 340
        },
        "id": "LQS_DxgPYBf1",
        "outputId": "2735ad93-17e1-4a0f-c0cf-7a1053c15e28"
      },
      "execution_count": 38,
      "outputs": [
        {
          "output_type": "execute_result",
          "data": {
            "text/plain": [
              "            custom_predictor_0  custom_predictor_1  custom_predictor_2  \\\n",
              "fecha                                                                    \n",
              "1993-12-01            0.699605            0.632947            0.601514   \n",
              "1994-01-01            0.963081            0.699605            0.632947   \n",
              "1994-02-01            0.819325            0.963081            0.699605   \n",
              "1994-03-01            0.437670            0.819325            0.963081   \n",
              "\n",
              "            custom_predictor_3  custom_predictor_4  custom_predictor_5  \\\n",
              "fecha                                                                    \n",
              "1993-12-01            0.558443            0.509210            0.470126   \n",
              "1994-01-01            0.601514            0.558443            0.509210   \n",
              "1994-02-01            0.632947            0.601514            0.558443   \n",
              "1994-03-01            0.699605            0.632947            0.601514   \n",
              "\n",
              "            custom_predictor_6  custom_predictor_7  custom_predictor_8  \\\n",
              "fecha                                                                    \n",
              "1993-12-01            0.428859            0.413890            0.427283   \n",
              "1994-01-01            0.470126            0.428859            0.413890   \n",
              "1994-02-01            0.509210            0.470126            0.428859   \n",
              "1994-03-01            0.558443            0.509210            0.470126   \n",
              "\n",
              "            custom_predictor_9  custom_predictor_10  \n",
              "fecha                                                \n",
              "1993-12-01            0.387554             0.523089  \n",
              "1994-01-01            0.427283             0.552253  \n",
              "1994-02-01            0.413890             0.575129  \n",
              "1994-03-01            0.428859             0.576486  "
            ],
            "text/html": [
              "\n",
              "  <div id=\"df-87283e53-8c3a-499f-a763-e988a33d3382\">\n",
              "    <div class=\"colab-df-container\">\n",
              "      <div>\n",
              "<style scoped>\n",
              "    .dataframe tbody tr th:only-of-type {\n",
              "        vertical-align: middle;\n",
              "    }\n",
              "\n",
              "    .dataframe tbody tr th {\n",
              "        vertical-align: top;\n",
              "    }\n",
              "\n",
              "    .dataframe thead th {\n",
              "        text-align: right;\n",
              "    }\n",
              "</style>\n",
              "<table border=\"1\" class=\"dataframe\">\n",
              "  <thead>\n",
              "    <tr style=\"text-align: right;\">\n",
              "      <th></th>\n",
              "      <th>custom_predictor_0</th>\n",
              "      <th>custom_predictor_1</th>\n",
              "      <th>custom_predictor_2</th>\n",
              "      <th>custom_predictor_3</th>\n",
              "      <th>custom_predictor_4</th>\n",
              "      <th>custom_predictor_5</th>\n",
              "      <th>custom_predictor_6</th>\n",
              "      <th>custom_predictor_7</th>\n",
              "      <th>custom_predictor_8</th>\n",
              "      <th>custom_predictor_9</th>\n",
              "      <th>custom_predictor_10</th>\n",
              "    </tr>\n",
              "    <tr>\n",
              "      <th>fecha</th>\n",
              "      <th></th>\n",
              "      <th></th>\n",
              "      <th></th>\n",
              "      <th></th>\n",
              "      <th></th>\n",
              "      <th></th>\n",
              "      <th></th>\n",
              "      <th></th>\n",
              "      <th></th>\n",
              "      <th></th>\n",
              "      <th></th>\n",
              "    </tr>\n",
              "  </thead>\n",
              "  <tbody>\n",
              "    <tr>\n",
              "      <th>1993-12-01</th>\n",
              "      <td>0.699605</td>\n",
              "      <td>0.632947</td>\n",
              "      <td>0.601514</td>\n",
              "      <td>0.558443</td>\n",
              "      <td>0.509210</td>\n",
              "      <td>0.470126</td>\n",
              "      <td>0.428859</td>\n",
              "      <td>0.413890</td>\n",
              "      <td>0.427283</td>\n",
              "      <td>0.387554</td>\n",
              "      <td>0.523089</td>\n",
              "    </tr>\n",
              "    <tr>\n",
              "      <th>1994-01-01</th>\n",
              "      <td>0.963081</td>\n",
              "      <td>0.699605</td>\n",
              "      <td>0.632947</td>\n",
              "      <td>0.601514</td>\n",
              "      <td>0.558443</td>\n",
              "      <td>0.509210</td>\n",
              "      <td>0.470126</td>\n",
              "      <td>0.428859</td>\n",
              "      <td>0.413890</td>\n",
              "      <td>0.427283</td>\n",
              "      <td>0.552253</td>\n",
              "    </tr>\n",
              "    <tr>\n",
              "      <th>1994-02-01</th>\n",
              "      <td>0.819325</td>\n",
              "      <td>0.963081</td>\n",
              "      <td>0.699605</td>\n",
              "      <td>0.632947</td>\n",
              "      <td>0.601514</td>\n",
              "      <td>0.558443</td>\n",
              "      <td>0.509210</td>\n",
              "      <td>0.470126</td>\n",
              "      <td>0.428859</td>\n",
              "      <td>0.413890</td>\n",
              "      <td>0.575129</td>\n",
              "    </tr>\n",
              "    <tr>\n",
              "      <th>1994-03-01</th>\n",
              "      <td>0.437670</td>\n",
              "      <td>0.819325</td>\n",
              "      <td>0.963081</td>\n",
              "      <td>0.699605</td>\n",
              "      <td>0.632947</td>\n",
              "      <td>0.601514</td>\n",
              "      <td>0.558443</td>\n",
              "      <td>0.509210</td>\n",
              "      <td>0.470126</td>\n",
              "      <td>0.428859</td>\n",
              "      <td>0.576486</td>\n",
              "    </tr>\n",
              "  </tbody>\n",
              "</table>\n",
              "</div>\n",
              "      <button class=\"colab-df-convert\" onclick=\"convertToInteractive('df-87283e53-8c3a-499f-a763-e988a33d3382')\"\n",
              "              title=\"Convert this dataframe to an interactive table.\"\n",
              "              style=\"display:none;\">\n",
              "        \n",
              "  <svg xmlns=\"http://www.w3.org/2000/svg\" height=\"24px\"viewBox=\"0 0 24 24\"\n",
              "       width=\"24px\">\n",
              "    <path d=\"M0 0h24v24H0V0z\" fill=\"none\"/>\n",
              "    <path d=\"M18.56 5.44l.94 2.06.94-2.06 2.06-.94-2.06-.94-.94-2.06-.94 2.06-2.06.94zm-11 1L8.5 8.5l.94-2.06 2.06-.94-2.06-.94L8.5 2.5l-.94 2.06-2.06.94zm10 10l.94 2.06.94-2.06 2.06-.94-2.06-.94-.94-2.06-.94 2.06-2.06.94z\"/><path d=\"M17.41 7.96l-1.37-1.37c-.4-.4-.92-.59-1.43-.59-.52 0-1.04.2-1.43.59L10.3 9.45l-7.72 7.72c-.78.78-.78 2.05 0 2.83L4 21.41c.39.39.9.59 1.41.59.51 0 1.02-.2 1.41-.59l7.78-7.78 2.81-2.81c.8-.78.8-2.07 0-2.86zM5.41 20L4 18.59l7.72-7.72 1.47 1.35L5.41 20z\"/>\n",
              "  </svg>\n",
              "      </button>\n",
              "      \n",
              "  <style>\n",
              "    .colab-df-container {\n",
              "      display:flex;\n",
              "      flex-wrap:wrap;\n",
              "      gap: 12px;\n",
              "    }\n",
              "\n",
              "    .colab-df-convert {\n",
              "      background-color: #E8F0FE;\n",
              "      border: none;\n",
              "      border-radius: 50%;\n",
              "      cursor: pointer;\n",
              "      display: none;\n",
              "      fill: #1967D2;\n",
              "      height: 32px;\n",
              "      padding: 0 0 0 0;\n",
              "      width: 32px;\n",
              "    }\n",
              "\n",
              "    .colab-df-convert:hover {\n",
              "      background-color: #E2EBFA;\n",
              "      box-shadow: 0px 1px 2px rgba(60, 64, 67, 0.3), 0px 1px 3px 1px rgba(60, 64, 67, 0.15);\n",
              "      fill: #174EA6;\n",
              "    }\n",
              "\n",
              "    [theme=dark] .colab-df-convert {\n",
              "      background-color: #3B4455;\n",
              "      fill: #D2E3FC;\n",
              "    }\n",
              "\n",
              "    [theme=dark] .colab-df-convert:hover {\n",
              "      background-color: #434B5C;\n",
              "      box-shadow: 0px 1px 3px 1px rgba(0, 0, 0, 0.15);\n",
              "      filter: drop-shadow(0px 1px 2px rgba(0, 0, 0, 0.3));\n",
              "      fill: #FFFFFF;\n",
              "    }\n",
              "  </style>\n",
              "\n",
              "      <script>\n",
              "        const buttonEl =\n",
              "          document.querySelector('#df-87283e53-8c3a-499f-a763-e988a33d3382 button.colab-df-convert');\n",
              "        buttonEl.style.display =\n",
              "          google.colab.kernel.accessAllowed ? 'block' : 'none';\n",
              "\n",
              "        async function convertToInteractive(key) {\n",
              "          const element = document.querySelector('#df-87283e53-8c3a-499f-a763-e988a33d3382');\n",
              "          const dataTable =\n",
              "            await google.colab.kernel.invokeFunction('convertToInteractive',\n",
              "                                                     [key], {});\n",
              "          if (!dataTable) return;\n",
              "\n",
              "          const docLinkHtml = 'Like what you see? Visit the ' +\n",
              "            '<a target=\"_blank\" href=https://colab.research.google.com/notebooks/data_table.ipynb>data table notebook</a>'\n",
              "            + ' to learn more about interactive tables.';\n",
              "          element.innerHTML = '';\n",
              "          dataTable['output_type'] = 'display_data';\n",
              "          await google.colab.output.renderOutput(dataTable, element);\n",
              "          const docLink = document.createElement('div');\n",
              "          docLink.innerHTML = docLinkHtml;\n",
              "          element.appendChild(docLink);\n",
              "        }\n",
              "      </script>\n",
              "    </div>\n",
              "  </div>\n",
              "  "
            ]
          },
          "metadata": {},
          "execution_count": 38
        }
      ]
    },
    {
      "cell_type": "code",
      "source": [
        "y.head(4)\n"
      ],
      "metadata": {
        "colab": {
          "base_uri": "https://localhost:8080/"
        },
        "id": "SulsjaPoYDjP",
        "outputId": "f28003c7-ccf7-4cd4-d969-e15d39a8a794"
      },
      "execution_count": 39,
      "outputs": [
        {
          "output_type": "execute_result",
          "data": {
            "text/plain": [
              "fecha\n",
              "1993-12-01    0.963081\n",
              "1994-01-01    0.819325\n",
              "1994-02-01    0.437670\n",
              "1994-03-01    0.506121\n",
              "Freq: MS, Name: y, dtype: float64"
            ]
          },
          "metadata": {},
          "execution_count": 39
        }
      ]
    },
    {
      "cell_type": "markdown",
      "source": [
        "# Predicciones\n",
        "\n"
      ],
      "metadata": {
        "id": "ywRbtuX3YFXQ"
      }
    },
    {
      "cell_type": "code",
      "source": [
        "# Predicciones\n",
        "# ==============================================================================\n",
        "steps = 36\n",
        "predicciones = forecaster.predict(steps=steps)"
      ],
      "metadata": {
        "id": "hLsQQd8iYIKk"
      },
      "execution_count": 40,
      "outputs": []
    },
    {
      "cell_type": "code",
      "source": [
        "# Gráfico\n",
        "# ==============================================================================\n",
        "fig, ax = plt.subplots(figsize=(9, 4))\n",
        "datos_train['y'].plot(ax=ax, label='train')\n",
        "datos_test['y'].plot(ax=ax, label='test')\n",
        "predicciones.plot(ax=ax, label='predicciones')\n",
        "ax.legend();"
      ],
      "metadata": {
        "colab": {
          "base_uri": "https://localhost:8080/",
          "height": 279
        },
        "id": "ueK5TMKDYIzP",
        "outputId": "0ab1099d-4ca4-494c-be78-39427b8f6030"
      },
      "execution_count": 41,
      "outputs": [
        {
          "output_type": "display_data",
          "data": {
            "text/plain": [
              "<Figure size 648x288 with 1 Axes>"
            ],
            "image/png": "[encoded data removed]"
          },
          "metadata": {
            "needs_background": "light"
          }
        }
      ]
    },
    {
      "cell_type": "markdown",
      "source": [
        "# Error de las predicciones en el conjunto de test\n",
        "\n"
      ],
      "metadata": {
        "id": "i9_lTrfrYMqh"
      }
    },
    {
      "cell_type": "code",
      "source": [
        "# Error test\n",
        "# ==============================================================================\n",
        "error_mse = mean_squared_error(\n",
        "                y_true = datos_test['y'],\n",
        "                y_pred = predicciones\n",
        "            )\n",
        "\n",
        "print(f\"Error de test (mse): {error_mse}\")"
      ],
      "metadata": {
        "colab": {
          "base_uri": "https://localhost:8080/"
        },
        "id": "PsWEF4idYPQ_",
        "outputId": "4f307526-6cfd-44e5-f525-bf732917f9b5"
      },
      "execution_count": 42,
      "outputs": [
        {
          "output_type": "stream",
          "name": "stdout",
          "text": [
            "Error de test (mse): 0.046232546768232\n"
          ]
        }
      ]
    },
    {
      "cell_type": "markdown",
      "source": [
        "# Ajuste de hiperparámetros (tuning)\n",
        "\n",
        "Al utilizar la función grid_search_forecaster con un ForecasterAutoregCustom, no se indica el argumento lags_grid."
      ],
      "metadata": {
        "id": "Gfxx13MjYTdH"
      }
    },
    {
      "cell_type": "code",
      "source": [
        "# Grid search de hiperparámetros\n",
        "# ==============================================================================\n",
        "steps = 36\n",
        "forecaster = ForecasterAutoregCustom(\n",
        "                regressor      = RandomForestRegressor(random_state=123),\n",
        "                fun_predictors = custom_predictors,\n",
        "                window_size    = 20\n",
        "             )\n",
        "\n",
        "# Hiperparámetros del regresor\n",
        "param_grid = {'n_estimators': [100, 500],\n",
        "              'max_depth': [3, 5, 10]}\n",
        "\n",
        "resultados_grid = grid_search_forecaster(\n",
        "                        forecaster  = forecaster,\n",
        "                        y           = datos_train['y'],\n",
        "                        param_grid  = param_grid,\n",
        "                        steps       = steps,\n",
        "                        refit       = True,\n",
        "                        metric      = 'mean_squared_error',\n",
        "                        initial_train_size = int(len(datos_train)*0.5),\n",
        "                        fixed_train_size = False,\n",
        "                        return_best = True,\n",
        "                        verbose     = False\n",
        "                    )"
      ],
      "metadata": {
        "colab": {
          "base_uri": "https://localhost:8080/"
        },
        "id": "FwMySPDCYcZR",
        "outputId": "01a20804-41b2-4a03-9cff-6fd56ddc6424"
      },
      "execution_count": 43,
      "outputs": [
        {
          "output_type": "stream",
          "name": "stdout",
          "text": [
            "Number of models compared: 6\n"
          ]
        },
        {
          "output_type": "stream",
          "name": "stderr",
          "text": [
            "loop lags_grid:   0%|                                               | 0/1 [00:00<?, ?it/s]\n",
            "loop param_grid:   0%|                                              | 0/6 [00:00<?, ?it/s]\u001b[A\n",
            "loop param_grid:  17%|██████▎                               | 1/6 [00:01<00:08,  1.78s/it]\u001b[A\n",
            "loop param_grid:  33%|████████████▋                         | 2/6 [00:07<00:15,  3.89s/it]\u001b[A\n",
            "loop param_grid:  50%|███████████████████                   | 3/6 [00:08<00:08,  2.69s/it]\u001b[A\n",
            "loop param_grid:  67%|█████████████████████████▎            | 4/6 [00:14<00:08,  4.04s/it]\u001b[A\n",
            "loop param_grid:  83%|███████████████████████████████▋      | 5/6 [00:15<00:03,  3.01s/it]\u001b[A\n",
            "loop param_grid: 100%|██████████████████████████████████████| 6/6 [00:21<00:00,  4.06s/it]\u001b[A\n",
            "loop lags_grid: 100%|███████████████████████████████████████| 1/1 [00:21<00:00, 21.83s/it]\n"
          ]
        },
        {
          "output_type": "stream",
          "name": "stdout",
          "text": [
            "`Forecaster` refitted using the best-found lags and parameters, and the whole data set: \n",
            "  Lags: custom predictors \n",
            "  Parameters: {'max_depth': 5, 'n_estimators': 500}\n",
            "  Backtesting metric: 0.03431493238511672\n",
            "\n"
          ]
        }
      ]
    },
    {
      "cell_type": "code",
      "source": [
        "# Resultados Grid Search\n",
        "# ==============================================================================\n",
        "resultados_grid"
      ],
      "metadata": {
        "colab": {
          "base_uri": "https://localhost:8080/",
          "height": 238
        },
        "id": "4lyyE8VRYemv",
        "outputId": "ad31c2fe-354e-4739-b9e9-2fae5fd69cbe"
      },
      "execution_count": 44,
      "outputs": [
        {
          "output_type": "execute_result",
          "data": {
            "text/plain": [
              "                lags                                  params    metric  \\\n",
              "3  custom predictors   {'max_depth': 5, 'n_estimators': 500}  0.034315   \n",
              "2  custom predictors   {'max_depth': 5, 'n_estimators': 100}  0.035424   \n",
              "4  custom predictors  {'max_depth': 10, 'n_estimators': 100}  0.035572   \n",
              "1  custom predictors   {'max_depth': 3, 'n_estimators': 500}  0.035790   \n",
              "0  custom predictors   {'max_depth': 3, 'n_estimators': 100}  0.035878   \n",
              "5  custom predictors  {'max_depth': 10, 'n_estimators': 500}  0.036010   \n",
              "\n",
              "   max_depth  n_estimators  \n",
              "3          5           500  \n",
              "2          5           100  \n",
              "4         10           100  \n",
              "1          3           500  \n",
              "0          3           100  \n",
              "5         10           500  "
            ],
            "text/html": [
              "\n",
              "  <div id=\"df-6b80d840-dbb4-4c7d-b46f-cc6842f806d5\">\n",
              "    <div class=\"colab-df-container\">\n",
              "      <div>\n",
              "<style scoped>\n",
              "    .dataframe tbody tr th:only-of-type {\n",
              "        vertical-align: middle;\n",
              "    }\n",
              "\n",
              "    .dataframe tbody tr th {\n",
              "        vertical-align: top;\n",
              "    }\n",
              "\n",
              "    .dataframe thead th {\n",
              "        text-align: right;\n",
              "    }\n",
              "</style>\n",
              "<table border=\"1\" class=\"dataframe\">\n",
              "  <thead>\n",
              "    <tr style=\"text-align: right;\">\n",
              "      <th></th>\n",
              "      <th>lags</th>\n",
              "      <th>params</th>\n",
              "      <th>metric</th>\n",
              "      <th>max_depth</th>\n",
              "      <th>n_estimators</th>\n",
              "    </tr>\n",
              "  </thead>\n",
              "  <tbody>\n",
              "    <tr>\n",
              "      <th>3</th>\n",
              "      <td>custom predictors</td>\n",
              "      <td>{'max_depth': 5, 'n_estimators': 500}</td>\n",
              "      <td>0.034315</td>\n",
              "      <td>5</td>\n",
              "      <td>500</td>\n",
              "    </tr>\n",
              "    <tr>\n",
              "      <th>2</th>\n",
              "      <td>custom predictors</td>\n",
              "      <td>{'max_depth': 5, 'n_estimators': 100}</td>\n",
              "      <td>0.035424</td>\n",
              "      <td>5</td>\n",
              "      <td>100</td>\n",
              "    </tr>\n",
              "    <tr>\n",
              "      <th>4</th>\n",
              "      <td>custom predictors</td>\n",
              "      <td>{'max_depth': 10, 'n_estimators': 100}</td>\n",
              "      <td>0.035572</td>\n",
              "      <td>10</td>\n",
              "      <td>100</td>\n",
              "    </tr>\n",
              "    <tr>\n",
              "      <th>1</th>\n",
              "      <td>custom predictors</td>\n",
              "      <td>{'max_depth': 3, 'n_estimators': 500}</td>\n",
              "      <td>0.035790</td>\n",
              "      <td>3</td>\n",
              "      <td>500</td>\n",
              "    </tr>\n",
              "    <tr>\n",
              "      <th>0</th>\n",
              "      <td>custom predictors</td>\n",
              "      <td>{'max_depth': 3, 'n_estimators': 100}</td>\n",
              "      <td>0.035878</td>\n",
              "      <td>3</td>\n",
              "      <td>100</td>\n",
              "    </tr>\n",
              "    <tr>\n",
              "      <th>5</th>\n",
              "      <td>custom predictors</td>\n",
              "      <td>{'max_depth': 10, 'n_estimators': 500}</td>\n",
              "      <td>0.036010</td>\n",
              "      <td>10</td>\n",
              "      <td>500</td>\n",
              "    </tr>\n",
              "  </tbody>\n",
              "</table>\n",
              "</div>\n",
              "      <button class=\"colab-df-convert\" onclick=\"convertToInteractive('df-6b80d840-dbb4-4c7d-b46f-cc6842f806d5')\"\n",
              "              title=\"Convert this dataframe to an interactive table.\"\n",
              "              style=\"display:none;\">\n",
              "        \n",
              "  <svg xmlns=\"http://www.w3.org/2000/svg\" height=\"24px\"viewBox=\"0 0 24 24\"\n",
              "       width=\"24px\">\n",
              "    <path d=\"M0 0h24v24H0V0z\" fill=\"none\"/>\n",
              "    <path d=\"M18.56 5.44l.94 2.06.94-2.06 2.06-.94-2.06-.94-.94-2.06-.94 2.06-2.06.94zm-11 1L8.5 8.5l.94-2.06 2.06-.94-2.06-.94L8.5 2.5l-.94 2.06-2.06.94zm10 10l.94 2.06.94-2.06 2.06-.94-2.06-.94-.94-2.06-.94 2.06-2.06.94z\"/><path d=\"M17.41 7.96l-1.37-1.37c-.4-.4-.92-.59-1.43-.59-.52 0-1.04.2-1.43.59L10.3 9.45l-7.72 7.72c-.78.78-.78 2.05 0 2.83L4 21.41c.39.39.9.59 1.41.59.51 0 1.02-.2 1.41-.59l7.78-7.78 2.81-2.81c.8-.78.8-2.07 0-2.86zM5.41 20L4 18.59l7.72-7.72 1.47 1.35L5.41 20z\"/>\n",
              "  </svg>\n",
              "      </button>\n",
              "      \n",
              "  <style>\n",
              "    .colab-df-container {\n",
              "      display:flex;\n",
              "      flex-wrap:wrap;\n",
              "      gap: 12px;\n",
              "    }\n",
              "\n",
              "    .colab-df-convert {\n",
              "      background-color: #E8F0FE;\n",
              "      border: none;\n",
              "      border-radius: 50%;\n",
              "      cursor: pointer;\n",
              "      display: none;\n",
              "      fill: #1967D2;\n",
              "      height: 32px;\n",
              "      padding: 0 0 0 0;\n",
              "      width: 32px;\n",
              "    }\n",
              "\n",
              "    .colab-df-convert:hover {\n",
              "      background-color: #E2EBFA;\n",
              "      box-shadow: 0px 1px 2px rgba(60, 64, 67, 0.3), 0px 1px 3px 1px rgba(60, 64, 67, 0.15);\n",
              "      fill: #174EA6;\n",
              "    }\n",
              "\n",
              "    [theme=dark] .colab-df-convert {\n",
              "      background-color: #3B4455;\n",
              "      fill: #D2E3FC;\n",
              "    }\n",
              "\n",
              "    [theme=dark] .colab-df-convert:hover {\n",
              "      background-color: #434B5C;\n",
              "      box-shadow: 0px 1px 3px 1px rgba(0, 0, 0, 0.15);\n",
              "      filter: drop-shadow(0px 1px 2px rgba(0, 0, 0, 0.3));\n",
              "      fill: #FFFFFF;\n",
              "    }\n",
              "  </style>\n",
              "\n",
              "      <script>\n",
              "        const buttonEl =\n",
              "          document.querySelector('#df-6b80d840-dbb4-4c7d-b46f-cc6842f806d5 button.colab-df-convert');\n",
              "        buttonEl.style.display =\n",
              "          google.colab.kernel.accessAllowed ? 'block' : 'none';\n",
              "\n",
              "        async function convertToInteractive(key) {\n",
              "          const element = document.querySelector('#df-6b80d840-dbb4-4c7d-b46f-cc6842f806d5');\n",
              "          const dataTable =\n",
              "            await google.colab.kernel.invokeFunction('convertToInteractive',\n",
              "                                                     [key], {});\n",
              "          if (!dataTable) return;\n",
              "\n",
              "          const docLinkHtml = 'Like what you see? Visit the ' +\n",
              "            '<a target=\"_blank\" href=https://colab.research.google.com/notebooks/data_table.ipynb>data table notebook</a>'\n",
              "            + ' to learn more about interactive tables.';\n",
              "          element.innerHTML = '';\n",
              "          dataTable['output_type'] = 'display_data';\n",
              "          await google.colab.output.renderOutput(dataTable, element);\n",
              "          const docLink = document.createElement('div');\n",
              "          docLink.innerHTML = docLinkHtml;\n",
              "          element.appendChild(docLink);\n",
              "        }\n",
              "      </script>\n",
              "    </div>\n",
              "  </div>\n",
              "  "
            ]
          },
          "metadata": {},
          "execution_count": 44
        }
      ]
    },
    {
      "cell_type": "markdown",
      "source": [
        "# Modelo final"
      ],
      "metadata": {
        "id": "PSmgNRdsYhml"
      }
    },
    {
      "cell_type": "code",
      "source": [
        "# Predicciones\n",
        "# ==============================================================================\n",
        "predicciones = forecaster.predict(steps=steps)\n",
        "\n",
        "# Gráfico\n",
        "# ==============================================================================\n",
        "fig, ax = plt.subplots(figsize=(9, 4))\n",
        "datos_train['y'].plot(ax=ax, label='train')\n",
        "datos_test['y'].plot(ax=ax, label='test')\n",
        "predicciones.plot(ax=ax, label='predicciones')\n",
        "ax.legend();"
      ],
      "metadata": {
        "colab": {
          "base_uri": "https://localhost:8080/",
          "height": 279
        },
        "id": "VvzuPLX4YkVO",
        "outputId": "e0b9f4b1-ef40-4aa6-ea29-14abb43e28c4"
      },
      "execution_count": 45,
      "outputs": [
        {
          "output_type": "display_data",
          "data": {
            "text/plain": [
              "<Figure size 648x288 with 1 Axes>"
            ],
            "image/png": "[encoded data removed]"
          },
          "metadata": {
            "needs_background": "light"
          }
        }
      ]
    },
    {
      "cell_type": "code",
      "source": [
        "# Error test\n",
        "# ==============================================================================\n",
        "error_mse = mean_squared_error(y_true = datos_test['y'], y_pred = predicciones)\n",
        "print(f\"Error de test (mse) {error_mse}\")"
      ],
      "metadata": {
        "colab": {
          "base_uri": "https://localhost:8080/"
        },
        "id": "CGK0OuNsYmoW",
        "outputId": "6ba9857c-3637-474d-ffbe-f2018eb94763"
      },
      "execution_count": 46,
      "outputs": [
        {
          "output_type": "stream",
          "name": "stdout",
          "text": [
            "Error de test (mse) 0.04194326997422299\n"
          ]
        }
      ]
    },
    {
      "cell_type": "markdown",
      "source": [
        "# Direct multi-step forecasting\n",
        "\n",
        "Para conseguir predicciones a varios steps a futuro, los modelos ForecasterAutoreg y ForecasterAutoregCustom siguen una estrategia de predicción recursiva en la que, cada nueva predicción, se basa en la predicción anterior. Una alternativa es entrenar un modelo para cada uno de los steps que se desea predecir. Esta estrategia, normalmente conocida como direct multi-step forecasting, es computacionalmente más costosa que la recursiva puesto que requiere entrenar varios modelos. Sin embargo, en algunos escenarios, consigue mejores resultados. Este tipo de modelos pueden obtenerse con la clase ForecasterAutoregMultiOutput y pueden incluir también una o múltiples variables exógenas."
      ],
      "metadata": {
        "id": "x0GoZ71QYpGt"
      }
    },
    {
      "cell_type": "markdown",
      "source": [
        "# ForecasterAutoregMultiOutput\n",
        "\n",
        "A diferencia de cuando se utiliza ForecasterAutoreg o ForecasterAutoregCustom, en los modelos de tipo ForecasterAutoregMultiOutput hay que indicar, en el momento de su creación, el número de steps que se quieren predecir. No es posible predecir steps más allá del valor definido en su creación.\n",
        "\n",
        "Para este ejemplo, se utiliza como regresor un modelo lineal con penalización de Lasso. Estos modelos requieren que los predictores se estandaricen, por lo que se combina con un StandardScaler utilizando un Pipeline.\n",
        "\n",
        "Para una documentación más detallada, visitar: skforecast-with_scikit-learn_pipelines."
      ],
      "metadata": {
        "id": "ATjDu3lDYtFh"
      }
    },
    {
      "cell_type": "code",
      "source": [
        "forecaster = ForecasterAutoregMultiOutput(\n",
        "                    regressor = make_pipeline(StandardScaler(), Lasso(random_state=123)),\n",
        "                    steps     = 36,\n",
        "                    lags      = 8\n",
        "             )\n",
        "\n",
        "forecaster"
      ],
      "metadata": {
        "colab": {
          "base_uri": "https://localhost:8080/"
        },
        "id": "HS4J77ZUYxQO",
        "outputId": "bc5b867b-569b-4792-a248-1c70ecc4672d"
      },
      "execution_count": 47,
      "outputs": [
        {
          "output_type": "execute_result",
          "data": {
            "text/plain": [
              "============================ \n",
              "ForecasterAutoregMultiOutput \n",
              "============================ \n",
              "Regressor: Pipeline(steps=[('standardscaler', StandardScaler()),\n",
              "                ('lasso', Lasso(random_state=123))]) \n",
              "Lags: [1 2 3 4 5 6 7 8] \n",
              "Window size: 8 \n",
              "Maximum steps predicted: 36 \n",
              "Included exogenous: False \n",
              "Type of exogenous variable: None \n",
              "Exogenous variables names: None \n",
              "Training range: None \n",
              "Training index type: None \n",
              "Training index frequency: None \n",
              "Regressor parameters: {'standardscaler__copy': True, 'standardscaler__with_mean': True, 'standardscaler__with_std': True, 'lasso__alpha': 1.0, 'lasso__copy_X': True, 'lasso__fit_intercept': True, 'lasso__max_iter': 1000, 'lasso__normalize': 'deprecated', 'lasso__positive': False, 'lasso__precompute': False, 'lasso__random_state': 123, 'lasso__selection': 'cyclic', 'lasso__tol': 0.0001, 'lasso__warm_start': False} \n",
              "Creation date: 2022-08-09 06:55:31 \n",
              "Last fit date: None \n",
              "Skforecast version: 0.4.3 "
            ]
          },
          "metadata": {},
          "execution_count": 47
        }
      ]
    },
    {
      "cell_type": "code",
      "source": [
        "# Grid search de hiperparámetros\n",
        "# ==============================================================================\n",
        "forecaster = ForecasterAutoregMultiOutput(\n",
        "                    regressor = make_pipeline(StandardScaler(), Lasso(random_state=123)),\n",
        "                    steps     = 36,\n",
        "                    lags      = 8 # Este valor será remplazado en el grid search\n",
        "             )\n",
        "\n",
        "# Para acceder a los parámetros de un pipeline de scikitlearn hay que seguir el\n",
        "# patrón: <nombre del componente>__<nombre del parámetro>.\n",
        "param_grid = {'lasso__alpha': np.logspace(-5, 5, 10)}\n",
        "lags_grid = [5, 12, 20]\n",
        "\n",
        "resultados_grid = grid_search_forecaster(\n",
        "                        forecaster  = forecaster,\n",
        "                        y           = datos_train['y'],\n",
        "                        param_grid  = param_grid,\n",
        "                        lags_grid   = lags_grid,\n",
        "                        steps       = 36,\n",
        "                        refit       = True,\n",
        "                        metric      = 'mean_squared_error',\n",
        "                        initial_train_size = int(len(datos_train)*0.5),\n",
        "                        fixed_train_size   = False,\n",
        "                        return_best = True,\n",
        "                        verbose     = False\n",
        "                    )"
      ],
      "metadata": {
        "colab": {
          "base_uri": "https://localhost:8080/"
        },
        "id": "qN_yRPzeY0Bn",
        "outputId": "642f5bb8-7eb5-4ea8-d858-bc9d3441dca2"
      },
      "execution_count": 48,
      "outputs": [
        {
          "output_type": "stream",
          "name": "stdout",
          "text": [
            "Number of models compared: 30\n"
          ]
        },
        {
          "output_type": "stream",
          "name": "stderr",
          "text": [
            "loop lags_grid:   0%|                                               | 0/3 [00:00<?, ?it/s]\n",
            "loop param_grid:   0%|                                             | 0/10 [00:00<?, ?it/s]\u001b[A\n",
            "loop param_grid:  10%|███▋                                 | 1/10 [00:00<00:06,  1.50it/s]\u001b[A\n",
            "loop param_grid:  20%|███████▍                             | 2/10 [00:01<00:05,  1.59it/s]\u001b[A\n",
            "loop param_grid:  30%|███████████                          | 3/10 [00:02<00:04,  1.45it/s]\u001b[A\n",
            "loop param_grid:  40%|██████████████▊                      | 4/10 [00:02<00:03,  1.80it/s]\u001b[A\n",
            "loop param_grid:  50%|██████████████████▌                  | 5/10 [00:02<00:02,  2.06it/s]\u001b[A\n",
            "loop param_grid:  60%|██████████████████████▏              | 6/10 [00:03<00:01,  2.28it/s]\u001b[A\n",
            "loop param_grid:  70%|█████████████████████████▉           | 7/10 [00:03<00:01,  2.47it/s]\u001b[A\n",
            "loop param_grid:  80%|█████████████████████████████▌       | 8/10 [00:03<00:00,  2.59it/s]\u001b[A\n",
            "loop param_grid:  90%|█████████████████████████████████▎   | 9/10 [00:04<00:00,  2.70it/s]\u001b[A\n",
            "loop param_grid: 100%|████████████████████████████████████| 10/10 [00:04<00:00,  2.76it/s]\u001b[A\n",
            "loop lags_grid:  33%|█████████████                          | 1/3 [00:04<00:08,  4.49s/it]\n",
            "loop param_grid:   0%|                                             | 0/10 [00:00<?, ?it/s]\u001b[A\n",
            "loop param_grid:  10%|███▋                                 | 1/10 [00:00<00:03,  2.64it/s]\u001b[A\n",
            "loop param_grid:  20%|███████▍                             | 2/10 [00:00<00:02,  2.67it/s]\u001b[A\n",
            "loop param_grid:  30%|███████████                          | 3/10 [00:01<00:02,  2.69it/s]\u001b[A\n",
            "loop param_grid:  40%|██████████████▊                      | 4/10 [00:01<00:02,  2.71it/s]\u001b[A\n",
            "loop param_grid:  50%|██████████████████▌                  | 5/10 [00:01<00:01,  2.79it/s]\u001b[A\n",
            "loop param_grid:  60%|██████████████████████▏              | 6/10 [00:02<00:01,  2.80it/s]\u001b[A\n",
            "loop param_grid:  70%|█████████████████████████▉           | 7/10 [00:02<00:01,  2.80it/s]\u001b[A\n",
            "loop param_grid:  80%|█████████████████████████████▌       | 8/10 [00:02<00:00,  2.83it/s]\u001b[A\n",
            "loop param_grid:  90%|█████████████████████████████████▎   | 9/10 [00:03<00:00,  2.86it/s]\u001b[A\n",
            "loop param_grid: 100%|████████████████████████████████████| 10/10 [00:03<00:00,  2.80it/s]\u001b[A\n",
            "loop lags_grid:  67%|██████████████████████████             | 2/3 [00:08<00:03,  3.98s/it]\n",
            "loop param_grid:   0%|                                             | 0/10 [00:00<?, ?it/s]\u001b[A\n",
            "loop param_grid:  10%|███▋                                 | 1/10 [00:00<00:03,  2.42it/s]\u001b[A\n",
            "loop param_grid:  20%|███████▍                             | 2/10 [00:01<00:04,  1.81it/s]\u001b[A\n",
            "loop param_grid:  30%|███████████                          | 3/10 [00:01<00:03,  1.81it/s]\u001b[A\n",
            "loop param_grid:  40%|██████████████▊                      | 4/10 [00:02<00:03,  1.65it/s]\u001b[A\n",
            "loop param_grid:  50%|██████████████████▌                  | 5/10 [00:03<00:03,  1.55it/s]\u001b[A\n",
            "loop param_grid:  60%|██████████████████████▏              | 6/10 [00:03<00:02,  1.51it/s]\u001b[A\n",
            "loop param_grid:  70%|█████████████████████████▉           | 7/10 [00:04<00:01,  1.62it/s]\u001b[A\n",
            "loop param_grid:  80%|█████████████████████████████▌       | 8/10 [00:04<00:01,  1.87it/s]\u001b[A\n",
            "loop param_grid:  90%|█████████████████████████████████▎   | 9/10 [00:04<00:00,  2.06it/s]\u001b[A\n",
            "loop param_grid: 100%|████████████████████████████████████| 10/10 [00:05<00:00,  2.24it/s]\u001b[A\n",
            "loop lags_grid: 100%|███████████████████████████████████████| 3/3 [00:13<00:00,  4.49s/it]"
          ]
        },
        {
          "output_type": "stream",
          "name": "stdout",
          "text": [
            "`Forecaster` refitted using the best-found lags and parameters, and the whole data set: \n",
            "  Lags: [ 1  2  3  4  5  6  7  8  9 10 11 12 13 14 15 16 17 18 19 20] \n",
            "  Parameters: {'lasso__alpha': 0.021544346900318846}\n",
            "  Backtesting metric: 0.010608155083112462\n",
            "\n"
          ]
        },
        {
          "output_type": "stream",
          "name": "stderr",
          "text": [
            "\n"
          ]
        }
      ]
    },
    {
      "cell_type": "code",
      "source": [
        "# Resultados Grid Search\n",
        "# ==============================================================================\n",
        "resultados_grid.head()"
      ],
      "metadata": {
        "colab": {
          "base_uri": "https://localhost:8080/",
          "height": 206
        },
        "id": "0ysAl1ITY2j7",
        "outputId": "05b58f04-45cf-406f-a7fc-89ef94c9a154"
      },
      "execution_count": 49,
      "outputs": [
        {
          "output_type": "execute_result",
          "data": {
            "text/plain": [
              "                                                 lags  \\\n",
              "23  [1, 2, 3, 4, 5, 6, 7, 8, 9, 10, 11, 12, 13, 14...   \n",
              "13            [1, 2, 3, 4, 5, 6, 7, 8, 9, 10, 11, 12]   \n",
              "12            [1, 2, 3, 4, 5, 6, 7, 8, 9, 10, 11, 12]   \n",
              "11            [1, 2, 3, 4, 5, 6, 7, 8, 9, 10, 11, 12]   \n",
              "10            [1, 2, 3, 4, 5, 6, 7, 8, 9, 10, 11, 12]   \n",
              "\n",
              "                                     params    metric  lasso__alpha  \n",
              "23   {'lasso__alpha': 0.021544346900318846}  0.010608      0.021544  \n",
              "13   {'lasso__alpha': 0.021544346900318846}  0.012005      0.021544  \n",
              "12  {'lasso__alpha': 0.0016681005372000592}  0.013960      0.001668  \n",
              "11  {'lasso__alpha': 0.0001291549665014884}  0.014614      0.000129  \n",
              "10                  {'lasso__alpha': 1e-05}  0.014648      0.000010  "
            ],
            "text/html": [
              "\n",
              "  <div id=\"df-00b00d5e-cb2c-4771-8998-d2bd823521ee\">\n",
              "    <div class=\"colab-df-container\">\n",
              "      <div>\n",
              "<style scoped>\n",
              "    .dataframe tbody tr th:only-of-type {\n",
              "        vertical-align: middle;\n",
              "    }\n",
              "\n",
              "    .dataframe tbody tr th {\n",
              "        vertical-align: top;\n",
              "    }\n",
              "\n",
              "    .dataframe thead th {\n",
              "        text-align: right;\n",
              "    }\n",
              "</style>\n",
              "<table border=\"1\" class=\"dataframe\">\n",
              "  <thead>\n",
              "    <tr style=\"text-align: right;\">\n",
              "      <th></th>\n",
              "      <th>lags</th>\n",
              "      <th>params</th>\n",
              "      <th>metric</th>\n",
              "      <th>lasso__alpha</th>\n",
              "    </tr>\n",
              "  </thead>\n",
              "  <tbody>\n",
              "    <tr>\n",
              "      <th>23</th>\n",
              "      <td>[1, 2, 3, 4, 5, 6, 7, 8, 9, 10, 11, 12, 13, 14...</td>\n",
              "      <td>{'lasso__alpha': 0.021544346900318846}</td>\n",
              "      <td>0.010608</td>\n",
              "      <td>0.021544</td>\n",
              "    </tr>\n",
              "    <tr>\n",
              "      <th>13</th>\n",
              "      <td>[1, 2, 3, 4, 5, 6, 7, 8, 9, 10, 11, 12]</td>\n",
              "      <td>{'lasso__alpha': 0.021544346900318846}</td>\n",
              "      <td>0.012005</td>\n",
              "      <td>0.021544</td>\n",
              "    </tr>\n",
              "    <tr>\n",
              "      <th>12</th>\n",
              "      <td>[1, 2, 3, 4, 5, 6, 7, 8, 9, 10, 11, 12]</td>\n",
              "      <td>{'lasso__alpha': 0.0016681005372000592}</td>\n",
              "      <td>0.013960</td>\n",
              "      <td>0.001668</td>\n",
              "    </tr>\n",
              "    <tr>\n",
              "      <th>11</th>\n",
              "      <td>[1, 2, 3, 4, 5, 6, 7, 8, 9, 10, 11, 12]</td>\n",
              "      <td>{'lasso__alpha': 0.0001291549665014884}</td>\n",
              "      <td>0.014614</td>\n",
              "      <td>0.000129</td>\n",
              "    </tr>\n",
              "    <tr>\n",
              "      <th>10</th>\n",
              "      <td>[1, 2, 3, 4, 5, 6, 7, 8, 9, 10, 11, 12]</td>\n",
              "      <td>{'lasso__alpha': 1e-05}</td>\n",
              "      <td>0.014648</td>\n",
              "      <td>0.000010</td>\n",
              "    </tr>\n",
              "  </tbody>\n",
              "</table>\n",
              "</div>\n",
              "      <button class=\"colab-df-convert\" onclick=\"convertToInteractive('df-00b00d5e-cb2c-4771-8998-d2bd823521ee')\"\n",
              "              title=\"Convert this dataframe to an interactive table.\"\n",
              "              style=\"display:none;\">\n",
              "        \n",
              "  <svg xmlns=\"http://www.w3.org/2000/svg\" height=\"24px\"viewBox=\"0 0 24 24\"\n",
              "       width=\"24px\">\n",
              "    <path d=\"M0 0h24v24H0V0z\" fill=\"none\"/>\n",
              "    <path d=\"M18.56 5.44l.94 2.06.94-2.06 2.06-.94-2.06-.94-.94-2.06-.94 2.06-2.06.94zm-11 1L8.5 8.5l.94-2.06 2.06-.94-2.06-.94L8.5 2.5l-.94 2.06-2.06.94zm10 10l.94 2.06.94-2.06 2.06-.94-2.06-.94-.94-2.06-.94 2.06-2.06.94z\"/><path d=\"M17.41 7.96l-1.37-1.37c-.4-.4-.92-.59-1.43-.59-.52 0-1.04.2-1.43.59L10.3 9.45l-7.72 7.72c-.78.78-.78 2.05 0 2.83L4 21.41c.39.39.9.59 1.41.59.51 0 1.02-.2 1.41-.59l7.78-7.78 2.81-2.81c.8-.78.8-2.07 0-2.86zM5.41 20L4 18.59l7.72-7.72 1.47 1.35L5.41 20z\"/>\n",
              "  </svg>\n",
              "      </button>\n",
              "      \n",
              "  <style>\n",
              "    .colab-df-container {\n",
              "      display:flex;\n",
              "      flex-wrap:wrap;\n",
              "      gap: 12px;\n",
              "    }\n",
              "\n",
              "    .colab-df-convert {\n",
              "      background-color: #E8F0FE;\n",
              "      border: none;\n",
              "      border-radius: 50%;\n",
              "      cursor: pointer;\n",
              "      display: none;\n",
              "      fill: #1967D2;\n",
              "      height: 32px;\n",
              "      padding: 0 0 0 0;\n",
              "      width: 32px;\n",
              "    }\n",
              "\n",
              "    .colab-df-convert:hover {\n",
              "      background-color: #E2EBFA;\n",
              "      box-shadow: 0px 1px 2px rgba(60, 64, 67, 0.3), 0px 1px 3px 1px rgba(60, 64, 67, 0.15);\n",
              "      fill: #174EA6;\n",
              "    }\n",
              "\n",
              "    [theme=dark] .colab-df-convert {\n",
              "      background-color: #3B4455;\n",
              "      fill: #D2E3FC;\n",
              "    }\n",
              "\n",
              "    [theme=dark] .colab-df-convert:hover {\n",
              "      background-color: #434B5C;\n",
              "      box-shadow: 0px 1px 3px 1px rgba(0, 0, 0, 0.15);\n",
              "      filter: drop-shadow(0px 1px 2px rgba(0, 0, 0, 0.3));\n",
              "      fill: #FFFFFF;\n",
              "    }\n",
              "  </style>\n",
              "\n",
              "      <script>\n",
              "        const buttonEl =\n",
              "          document.querySelector('#df-00b00d5e-cb2c-4771-8998-d2bd823521ee button.colab-df-convert');\n",
              "        buttonEl.style.display =\n",
              "          google.colab.kernel.accessAllowed ? 'block' : 'none';\n",
              "\n",
              "        async function convertToInteractive(key) {\n",
              "          const element = document.querySelector('#df-00b00d5e-cb2c-4771-8998-d2bd823521ee');\n",
              "          const dataTable =\n",
              "            await google.colab.kernel.invokeFunction('convertToInteractive',\n",
              "                                                     [key], {});\n",
              "          if (!dataTable) return;\n",
              "\n",
              "          const docLinkHtml = 'Like what you see? Visit the ' +\n",
              "            '<a target=\"_blank\" href=https://colab.research.google.com/notebooks/data_table.ipynb>data table notebook</a>'\n",
              "            + ' to learn more about interactive tables.';\n",
              "          element.innerHTML = '';\n",
              "          dataTable['output_type'] = 'display_data';\n",
              "          await google.colab.output.renderOutput(dataTable, element);\n",
              "          const docLink = document.createElement('div');\n",
              "          docLink.innerHTML = docLinkHtml;\n",
              "          element.appendChild(docLink);\n",
              "        }\n",
              "      </script>\n",
              "    </div>\n",
              "  </div>\n",
              "  "
            ]
          },
          "metadata": {},
          "execution_count": 49
        }
      ]
    },
    {
      "cell_type": "code",
      "source": [
        "# Predicciones\n",
        "# ==============================================================================\n",
        "predicciones = forecaster.predict()\n",
        "\n",
        "# Gráfico\n",
        "# ==============================================================================\n",
        "fig, ax = plt.subplots(figsize=(9, 4))\n",
        "datos_train['y'].plot(ax=ax, label='train')\n",
        "datos_test['y'].plot(ax=ax, label='test')\n",
        "predicciones.plot(ax=ax, label='predicciones')\n",
        "ax.legend();"
      ],
      "metadata": {
        "colab": {
          "base_uri": "https://localhost:8080/",
          "height": 279
        },
        "id": "dZx5Ycu4Y7m6",
        "outputId": "396abf87-821a-4ffe-9a1c-1a657da84d22"
      },
      "execution_count": 50,
      "outputs": [
        {
          "output_type": "display_data",
          "data": {
            "text/plain": [
              "<Figure size 648x288 with 1 Axes>"
            ],
            "image/png": "[encoded data removed]"
          },
          "metadata": {
            "needs_background": "light"
          }
        }
      ]
    },
    {
      "cell_type": "markdown",
      "source": [
        "Los mejores resultados se obtienen utilizando una ventana temporal de 20 lags y una configuración de Lasso {'alpha': 0.021544}."
      ],
      "metadata": {
        "id": "vak-B1jDY5Ez"
      }
    },
    {
      "cell_type": "code",
      "source": [
        "# Error test\n",
        "# ==============================================================================\n",
        "error_mse = mean_squared_error(y_true = datos_test['y'], y_pred = predicciones)\n",
        "print(f\"Error de test (mse) {error_mse}\")"
      ],
      "metadata": {
        "colab": {
          "base_uri": "https://localhost:8080/"
        },
        "id": "EYkWHLl-Y-ay",
        "outputId": "531ff55a-dbe5-4537-b2c9-b7d4d8513ad7"
      },
      "execution_count": 51,
      "outputs": [
        {
          "output_type": "stream",
          "name": "stdout",
          "text": [
            "Error de test (mse) 0.009726551142140267\n"
          ]
        }
      ]
    },
    {
      "cell_type": "markdown",
      "source": [
        "# Intervalos de predicción\n",
        "\n",
        "Un intervalo de predicción define el espacio dentro del cual es de esperar que se encuentre el verdadero valor de  y  con una determinada probabilidad. Por ejemplo, es de esperar que el intervalo de predicción (1, 99) contenga el verdadero valor de la predicción con un 98% de probabilidad.\n",
        "\n",
        "Rob J Hyndman y George Athanasopoulos, listan en su libro Forecasting: Principles and Practice mútiples formas de estimar intervalos de predicción, la mayoría los cuales requieren que los residuos (errores) del modelo se distribuyan de forma normal. Cuando no se puede asumir esta propiedad, se puede recurrir a bootstrapping, que solo asume que los residuos no están correlacionados. Este es el método utilizado en la librería Skforecast para los modelos de tipo ForecasterAutoreg y ForecasterAutoregCustom. Puede encontrarse más detalle en skforecast prediction intervals."
      ],
      "metadata": {
        "id": "8NgXLgrGZBX-"
      }
    },
    {
      "cell_type": "code",
      "source": [
        "# Descarga de datos\n",
        "# ==============================================================================\n",
        "url = 'https://raw.githubusercontent.com/JoaquinAmatRodrigo/skforecast/master/data/h2o_exog.csv'\n",
        "datos = pd.read_csv(url, sep=',')\n",
        "\n",
        "# Preparación del dato\n",
        "# ==============================================================================\n",
        "datos['fecha'] = pd.to_datetime(datos['fecha'], format='%Y/%m/%d')\n",
        "datos = datos.set_index('fecha')\n",
        "datos = datos.rename(columns={'x': 'y'})\n",
        "datos = datos.asfreq('MS')\n",
        "datos = datos.sort_index()\n",
        "\n",
        "# Separación datos train-test\n",
        "# ==============================================================================\n",
        "steps = 36\n",
        "datos_train = datos[:-steps]\n",
        "datos_test  = datos[-steps:]\n",
        "\n",
        "print(f\"Fechas train : {datos_train.index.min()} --- {datos_train.index.max()}  (n={len(datos_train)})\")\n",
        "print(f\"Fechas test  : {datos_test.index.min()} --- {datos_test.index.max()}  (n={len(datos_test)})\")"
      ],
      "metadata": {
        "colab": {
          "base_uri": "https://localhost:8080/"
        },
        "id": "QDUe76SfZEW2",
        "outputId": "b2361c23-3e0f-4ec4-c1fb-07465b8e27a8"
      },
      "execution_count": 52,
      "outputs": [
        {
          "output_type": "stream",
          "name": "stdout",
          "text": [
            "Fechas train : 1992-04-01 00:00:00 --- 2005-06-01 00:00:00  (n=159)\n",
            "Fechas test  : 2005-07-01 00:00:00 --- 2008-06-01 00:00:00  (n=36)\n"
          ]
        }
      ]
    },
    {
      "cell_type": "code",
      "source": [
        "# Crear y entrenar forecaster\n",
        "# ==============================================================================\n",
        "forecaster = ForecasterAutoreg(\n",
        "                    regressor = LinearRegression(),\n",
        "                    lags = 15\n",
        "             )\n",
        "\n",
        "forecaster.fit(y=datos_train['y'])\n",
        "\n",
        "# Intervalos de predicción\n",
        "# ==============================================================================\n",
        "predicciones = forecaster.predict_interval(\n",
        "                    steps    = steps,\n",
        "                    interval = [1, 99],\n",
        "                    n_boot   = 500\n",
        "               )\n",
        "\n",
        "predicciones.head(5)"
      ],
      "metadata": {
        "colab": {
          "base_uri": "https://localhost:8080/",
          "height": 206
        },
        "id": "JXEZUZs6ZGyb",
        "outputId": "95e64af6-fcb7-4416-9eaa-a71913003962"
      },
      "execution_count": 53,
      "outputs": [
        {
          "output_type": "execute_result",
          "data": {
            "text/plain": [
              "                pred  lower_bound  upper_bound\n",
              "2005-07-01  0.962317     0.836348     1.072365\n",
              "2005-08-01  0.976595     0.786105     1.093848\n",
              "2005-09-01  1.140783     0.976097     1.262243\n",
              "2005-10-01  1.179538     1.009499     1.306744\n",
              "2005-11-01  1.221138     1.059447     1.348892"
            ],
            "text/html": [
              "\n",
              "  <div id=\"df-688c48f2-ae6c-4d03-9326-d5470d441317\">\n",
              "    <div class=\"colab-df-container\">\n",
              "      <div>\n",
              "<style scoped>\n",
              "    .dataframe tbody tr th:only-of-type {\n",
              "        vertical-align: middle;\n",
              "    }\n",
              "\n",
              "    .dataframe tbody tr th {\n",
              "        vertical-align: top;\n",
              "    }\n",
              "\n",
              "    .dataframe thead th {\n",
              "        text-align: right;\n",
              "    }\n",
              "</style>\n",
              "<table border=\"1\" class=\"dataframe\">\n",
              "  <thead>\n",
              "    <tr style=\"text-align: right;\">\n",
              "      <th></th>\n",
              "      <th>pred</th>\n",
              "      <th>lower_bound</th>\n",
              "      <th>upper_bound</th>\n",
              "    </tr>\n",
              "  </thead>\n",
              "  <tbody>\n",
              "    <tr>\n",
              "      <th>2005-07-01</th>\n",
              "      <td>0.962317</td>\n",
              "      <td>0.836348</td>\n",
              "      <td>1.072365</td>\n",
              "    </tr>\n",
              "    <tr>\n",
              "      <th>2005-08-01</th>\n",
              "      <td>0.976595</td>\n",
              "      <td>0.786105</td>\n",
              "      <td>1.093848</td>\n",
              "    </tr>\n",
              "    <tr>\n",
              "      <th>2005-09-01</th>\n",
              "      <td>1.140783</td>\n",
              "      <td>0.976097</td>\n",
              "      <td>1.262243</td>\n",
              "    </tr>\n",
              "    <tr>\n",
              "      <th>2005-10-01</th>\n",
              "      <td>1.179538</td>\n",
              "      <td>1.009499</td>\n",
              "      <td>1.306744</td>\n",
              "    </tr>\n",
              "    <tr>\n",
              "      <th>2005-11-01</th>\n",
              "      <td>1.221138</td>\n",
              "      <td>1.059447</td>\n",
              "      <td>1.348892</td>\n",
              "    </tr>\n",
              "  </tbody>\n",
              "</table>\n",
              "</div>\n",
              "      <button class=\"colab-df-convert\" onclick=\"convertToInteractive('df-688c48f2-ae6c-4d03-9326-d5470d441317')\"\n",
              "              title=\"Convert this dataframe to an interactive table.\"\n",
              "              style=\"display:none;\">\n",
              "        \n",
              "  <svg xmlns=\"http://www.w3.org/2000/svg\" height=\"24px\"viewBox=\"0 0 24 24\"\n",
              "       width=\"24px\">\n",
              "    <path d=\"M0 0h24v24H0V0z\" fill=\"none\"/>\n",
              "    <path d=\"M18.56 5.44l.94 2.06.94-2.06 2.06-.94-2.06-.94-.94-2.06-.94 2.06-2.06.94zm-11 1L8.5 8.5l.94-2.06 2.06-.94-2.06-.94L8.5 2.5l-.94 2.06-2.06.94zm10 10l.94 2.06.94-2.06 2.06-.94-2.06-.94-.94-2.06-.94 2.06-2.06.94z\"/><path d=\"M17.41 7.96l-1.37-1.37c-.4-.4-.92-.59-1.43-.59-.52 0-1.04.2-1.43.59L10.3 9.45l-7.72 7.72c-.78.78-.78 2.05 0 2.83L4 21.41c.39.39.9.59 1.41.59.51 0 1.02-.2 1.41-.59l7.78-7.78 2.81-2.81c.8-.78.8-2.07 0-2.86zM5.41 20L4 18.59l7.72-7.72 1.47 1.35L5.41 20z\"/>\n",
              "  </svg>\n",
              "      </button>\n",
              "      \n",
              "  <style>\n",
              "    .colab-df-container {\n",
              "      display:flex;\n",
              "      flex-wrap:wrap;\n",
              "      gap: 12px;\n",
              "    }\n",
              "\n",
              "    .colab-df-convert {\n",
              "      background-color: #E8F0FE;\n",
              "      border: none;\n",
              "      border-radius: 50%;\n",
              "      cursor: pointer;\n",
              "      display: none;\n",
              "      fill: #1967D2;\n",
              "      height: 32px;\n",
              "      padding: 0 0 0 0;\n",
              "      width: 32px;\n",
              "    }\n",
              "\n",
              "    .colab-df-convert:hover {\n",
              "      background-color: #E2EBFA;\n",
              "      box-shadow: 0px 1px 2px rgba(60, 64, 67, 0.3), 0px 1px 3px 1px rgba(60, 64, 67, 0.15);\n",
              "      fill: #174EA6;\n",
              "    }\n",
              "\n",
              "    [theme=dark] .colab-df-convert {\n",
              "      background-color: #3B4455;\n",
              "      fill: #D2E3FC;\n",
              "    }\n",
              "\n",
              "    [theme=dark] .colab-df-convert:hover {\n",
              "      background-color: #434B5C;\n",
              "      box-shadow: 0px 1px 3px 1px rgba(0, 0, 0, 0.15);\n",
              "      filter: drop-shadow(0px 1px 2px rgba(0, 0, 0, 0.3));\n",
              "      fill: #FFFFFF;\n",
              "    }\n",
              "  </style>\n",
              "\n",
              "      <script>\n",
              "        const buttonEl =\n",
              "          document.querySelector('#df-688c48f2-ae6c-4d03-9326-d5470d441317 button.colab-df-convert');\n",
              "        buttonEl.style.display =\n",
              "          google.colab.kernel.accessAllowed ? 'block' : 'none';\n",
              "\n",
              "        async function convertToInteractive(key) {\n",
              "          const element = document.querySelector('#df-688c48f2-ae6c-4d03-9326-d5470d441317');\n",
              "          const dataTable =\n",
              "            await google.colab.kernel.invokeFunction('convertToInteractive',\n",
              "                                                     [key], {});\n",
              "          if (!dataTable) return;\n",
              "\n",
              "          const docLinkHtml = 'Like what you see? Visit the ' +\n",
              "            '<a target=\"_blank\" href=https://colab.research.google.com/notebooks/data_table.ipynb>data table notebook</a>'\n",
              "            + ' to learn more about interactive tables.';\n",
              "          element.innerHTML = '';\n",
              "          dataTable['output_type'] = 'display_data';\n",
              "          await google.colab.output.renderOutput(dataTable, element);\n",
              "          const docLink = document.createElement('div');\n",
              "          docLink.innerHTML = docLinkHtml;\n",
              "          element.appendChild(docLink);\n",
              "        }\n",
              "      </script>\n",
              "    </div>\n",
              "  </div>\n",
              "  "
            ]
          },
          "metadata": {},
          "execution_count": 53
        }
      ]
    },
    {
      "cell_type": "code",
      "source": [
        "# Error de predicción\n",
        "# ==============================================================================\n",
        "error_mse = mean_squared_error(\n",
        "                y_true = datos_test['y'],\n",
        "                y_pred = predicciones['pred']\n",
        "            )\n",
        "\n",
        "print(f\"Error de test (mse): {error_mse}\")\n",
        "\n",
        "# Gráfico\n",
        "# ==============================================================================\n",
        "fig, ax = plt.subplots(figsize=(9, 4))\n",
        "datos_test['y'].plot(ax=ax, label='test')\n",
        "predicciones['pred'].plot(ax=ax, label='predicciones')\n",
        "ax.fill_between(\n",
        "    predicciones.index,\n",
        "    predicciones['lower_bound'],\n",
        "    predicciones['upper_bound'],\n",
        "    color = 'red',\n",
        "    alpha = 0.2\n",
        ")\n",
        "ax.legend();"
      ],
      "metadata": {
        "colab": {
          "base_uri": "https://localhost:8080/",
          "height": 307
        },
        "id": "oCx77OFMZKKT",
        "outputId": "a64492c7-3241-4d27-adc7-ce0513ab195b"
      },
      "execution_count": 54,
      "outputs": [
        {
          "output_type": "stream",
          "name": "stdout",
          "text": [
            "Error de test (mse): 0.01053658052670284\n"
          ]
        },
        {
          "output_type": "display_data",
          "data": {
            "text/plain": [
              "<Figure size 648x288 with 1 Axes>"
            ],
            "image/png": "[encoded data removed]"
          },
          "metadata": {
            "needs_background": "light"
          }
        }
      ]
    },
    {
      "cell_type": "code",
      "source": [
        "# Backtest con intervalos de predicción\n",
        "# ==============================================================================\n",
        "n_backtesting = 36*3 # Se separan para el backtest los últimos 9 años\n",
        "steps = 36\n",
        "forecaster = ForecasterAutoreg(\n",
        "                regressor = LinearRegression(),\n",
        "                lags      = 15\n",
        "             )\n",
        "\n",
        "metrica, predicciones = backtesting_forecaster(\n",
        "                            forecaster         = forecaster,\n",
        "                            y                  = datos['y'],\n",
        "                            initial_train_size = len(datos) - n_backtesting,\n",
        "                            fixed_train_size   = False,\n",
        "                            steps              = steps,\n",
        "                            metric             = 'mean_squared_error',\n",
        "                            refit              = True,\n",
        "                            interval           = [1, 99],\n",
        "                            n_boot             = 100,\n",
        "                            verbose            = True\n",
        "                       )\n",
        "\n",
        "print(f\"Error de test (mse): {metrica}\")\n",
        "\n",
        "# Gráfico\n",
        "# ==============================================================================\n",
        "fig, ax = plt.subplots(figsize=(9, 4))\n",
        "datos.loc[predicciones.index, 'y'].plot(ax=ax, label='test')\n",
        "predicciones['pred'].plot(ax=ax, label='predicciones')\n",
        "ax.fill_between(\n",
        "    predicciones.index,\n",
        "    predicciones['lower_bound'],\n",
        "    predicciones['upper_bound'],\n",
        "    color = 'red',\n",
        "    alpha = 0.2\n",
        ")\n",
        "ax.legend();"
      ],
      "metadata": {
        "colab": {
          "base_uri": "https://localhost:8080/",
          "height": 593
        },
        "id": "Bu8X7KW3ZMez",
        "outputId": "132a1234-6d81-4089-f2e6-ff1fce09408b"
      },
      "execution_count": 55,
      "outputs": [
        {
          "output_type": "stream",
          "name": "stdout",
          "text": [
            "Information of backtesting process\n",
            "----------------------------------\n",
            "Number of observations used for initial training: 87\n",
            "Number of observations used for backtesting: 108\n",
            "    Number of folds: 3\n",
            "    Number of steps per fold: 36\n",
            "\n",
            "Data partition in fold: 0\n",
            "    Training:   1992-04-01 00:00:00 -- 1999-06-01 00:00:00\n",
            "    Validation: 1999-07-01 00:00:00 -- 2002-06-01 00:00:00\n",
            "Data partition in fold: 1\n",
            "    Training:   1992-04-01 00:00:00 -- 2002-06-01 00:00:00\n",
            "    Validation: 2002-07-01 00:00:00 -- 2005-06-01 00:00:00\n",
            "Data partition in fold: 2\n",
            "    Training:   1992-04-01 00:00:00 -- 2005-06-01 00:00:00\n",
            "    Validation: 2005-07-01 00:00:00 -- 2008-06-01 00:00:00\n",
            "\n",
            "Error de test (mse): 0.012100781904923344\n"
          ]
        },
        {
          "output_type": "display_data",
          "data": {
            "text/plain": [
              "<Figure size 648x288 with 1 Axes>"
            ],
            "image/png": "[encoded data removed]"
          },
          "metadata": {
            "needs_background": "light"
          }
        }
      ]
    },
    {
      "cell_type": "code",
      "source": [
        "# Cobertura del intervalo predicho\n",
        "# ==============================================================================\n",
        "dentro_intervalo = np.where(\n",
        "                     (datos.loc[predicciones.index, 'y'] >= predicciones['lower_bound']) & \\\n",
        "                     (datos.loc[predicciones.index, 'y'] <= predicciones['upper_bound']),\n",
        "                     True,\n",
        "                     False\n",
        "                   )\n",
        "\n",
        "cobertura = dentro_intervalo.mean()\n",
        "print(f\"Cobertura del intervalo predicho: {round(100*cobertura, 2)} %\")"
      ],
      "metadata": {
        "colab": {
          "base_uri": "https://localhost:8080/"
        },
        "id": "FqSuvl_9ZPWt",
        "outputId": "723bbbb9-7548-4ee2-a6b3-3a2d0cb2fa27"
      },
      "execution_count": 56,
      "outputs": [
        {
          "output_type": "stream",
          "name": "stdout",
          "text": [
            "Cobertura del intervalo predicho: 84.26 %\n"
          ]
        }
      ]
    },
    {
      "cell_type": "markdown",
      "source": [
        "# Métrica custom\n",
        "\n",
        "En los procesos de backtesting (backtesting_forecaster) y optimización de hiperparámetros (grid_search_forecaster), además de las métricas mean_squared_error, mean_absolute_error y mean_absolute_percentage_error, el usuario puede utilizar cualquier función que desee siempre y cuando cumpla lo siguiente:\n",
        "\n",
        "Tiene como argumentos:\n",
        "\n",
        "1.   y_true: verdaderos valores de la serie.\n",
        "2.   y_pred: valores predichos.\n",
        "\n",
        "Devuelve un valor numérico (float o int).\n",
        "\n",
        "El modelo es mejor cuanto menor es la métrica. Esto únicamente es necesario si se quiere que la función grid_search_forecaster reentrene automáticamente el mejor modelo encontrado.\n",
        "\n",
        "Gracias a esta flexibilidad, es posible evaluar la capacidad predictiva del modelo con métricas aplicables a escenarios muy diversos. Por ejemplo:\n",
        "\n",
        "\n",
        "\n",
        "*   Considerar únicamente determinados meses, días u horas.\n",
        "*   Considerar únicamente fechas que sean festivos.\n",
        "*   Considerar únicamente el último step del horizonte predicho.\n",
        "\n",
        "Véase un ejemplo en el que se quiere predecir un horizonte de 12 meses, pero únicamente considerar los últimos 3 meses de cada año para calcular la métrica de interés."
      ],
      "metadata": {
        "id": "LyjLIzMyZUC3"
      }
    },
    {
      "cell_type": "code",
      "source": [
        "# Métrica custom \n",
        "# ==============================================================================\n",
        "from sklearn.metrics import mean_absolute_error\n",
        "\n",
        "def custom_metric(y_true, y_pred):\n",
        "    '''\n",
        "    Calcular el mean_absolute_error utilizando únicamente las predicciones de\n",
        "    los últimos 3 meses del año.\n",
        "    '''\n",
        "    mask = y_true.index.month.isin([10, 11, 12])\n",
        "    metric = mean_absolute_error(y_true[mask], y_pred[mask])\n",
        "    \n",
        "    return metric"
      ],
      "metadata": {
        "id": "JJwOe2E7Zpei"
      },
      "execution_count": 57,
      "outputs": []
    },
    {
      "cell_type": "code",
      "source": [
        "# Backtesting \n",
        "# ==============================================================================\n",
        "steps = 36\n",
        "n_backtesting = 36*3 # Se separan para el backtest los últimos 9 años\n",
        "\n",
        "metrica, predicciones_backtest = backtesting_forecaster(\n",
        "                                    forecaster         = forecaster,\n",
        "                                    y                  = datos['y'],\n",
        "                                    initial_train_size = len(datos) - n_backtesting,\n",
        "                                    fixed_train_size   = False,\n",
        "                                    steps              = steps,\n",
        "                                    refit              = True,\n",
        "                                    metric             = custom_metric,\n",
        "                                    verbose            = True\n",
        "                                 )\n",
        "\n",
        "print(f\"Error de backtest: {metrica}\")"
      ],
      "metadata": {
        "colab": {
          "base_uri": "https://localhost:8080/"
        },
        "id": "B9_o5wilZrCq",
        "outputId": "740230ec-dd87-42ad-cc9e-2c66cc6c2940"
      },
      "execution_count": 59,
      "outputs": [
        {
          "output_type": "stream",
          "name": "stdout",
          "text": [
            "Information of backtesting process\n",
            "----------------------------------\n",
            "Number of observations used for initial training: 87\n",
            "Number of observations used for backtesting: 108\n",
            "    Number of folds: 3\n",
            "    Number of steps per fold: 36\n",
            "\n",
            "Data partition in fold: 0\n",
            "    Training:   1992-04-01 00:00:00 -- 1999-06-01 00:00:00\n",
            "    Validation: 1999-07-01 00:00:00 -- 2002-06-01 00:00:00\n",
            "Data partition in fold: 1\n",
            "    Training:   1992-04-01 00:00:00 -- 2002-06-01 00:00:00\n",
            "    Validation: 2002-07-01 00:00:00 -- 2005-06-01 00:00:00\n",
            "Data partition in fold: 2\n",
            "    Training:   1992-04-01 00:00:00 -- 2005-06-01 00:00:00\n",
            "    Validation: 2005-07-01 00:00:00 -- 2008-06-01 00:00:00\n",
            "\n",
            "Error de backtest: 0.12033751744029476\n",
            "Information of backtesting process\n",
            "----------------------------------\n",
            "Number of observations used for initial training: 87\n",
            "Number of observations used for backtesting: 108\n",
            "    Number of folds: 3\n",
            "    Number of steps per fold: 36\n",
            "\n",
            "Data partition in fold: 0\n",
            "    Training:   1992-04-01 00:00:00 -- 1999-06-01 00:00:00\n",
            "    Validation: 1999-07-01 00:00:00 -- 2002-06-01 00:00:00\n",
            "Data partition in fold: 1\n",
            "    Training:   1992-04-01 00:00:00 -- 2002-06-01 00:00:00\n",
            "    Validation: 2002-07-01 00:00:00 -- 2005-06-01 00:00:00\n",
            "Data partition in fold: 2\n",
            "    Training:   1992-04-01 00:00:00 -- 2005-06-01 00:00:00\n",
            "    Validation: 2005-07-01 00:00:00 -- 2008-06-01 00:00:00\n",
            "\n",
            "Error de backtest: 0.12033751744029476\n"
          ]
        }
      ]
    },
    {
      "cell_type": "markdown",
      "source": [
        "# Cargar y guardar modelos\n",
        "\n",
        "Los modelos generados con Skforecast se pueden cargar y guardar usando las librerías Pickle o Joblib. A continuación se muestra un ejemplo sencillo utilizando Joblib.\n",
        "\n",
        "https://joaquinamatrodrigo.github.io/skforecast/0.4.3/notebooks/save-load-forecaster.html"
      ],
      "metadata": {
        "id": "1zWDXOs_Zto8"
      }
    },
    {
      "cell_type": "code",
      "source": [
        "# Crear forecaster\n",
        "forecaster = ForecasterAutoreg(RandomForestRegressor(random_state=123), lags=3)\n",
        "forecaster.fit(y=datos['y'])\n",
        "forecaster.predict(steps=3)"
      ],
      "metadata": {
        "colab": {
          "base_uri": "https://localhost:8080/"
        },
        "id": "wOdEwBHAZ2Ma",
        "outputId": "39f77afb-bb98-4a6f-c2fb-20727fefdfa4"
      },
      "execution_count": 60,
      "outputs": [
        {
          "output_type": "execute_result",
          "data": {
            "text/plain": [
              "2008-07-01    0.751967\n",
              "2008-08-01    0.826505\n",
              "2008-09-01    0.879444\n",
              "Freq: MS, Name: pred, dtype: float64"
            ]
          },
          "metadata": {},
          "execution_count": 60
        }
      ]
    },
    {
      "cell_type": "code",
      "source": [
        "# Guardar modelo\n",
        "dump(forecaster, filename='forecaster.py')"
      ],
      "metadata": {
        "colab": {
          "base_uri": "https://localhost:8080/"
        },
        "id": "9AVuydxWZ4Sv",
        "outputId": "bcd44314-3b2c-474a-ad2f-1808582676b1"
      },
      "execution_count": 61,
      "outputs": [
        {
          "output_type": "execute_result",
          "data": {
            "text/plain": [
              "['forecaster.py']"
            ]
          },
          "metadata": {},
          "execution_count": 61
        }
      ]
    },
    {
      "cell_type": "code",
      "source": [
        "# Cargar modelo\n",
        "forecaster_cargado = load('forecaster.py')"
      ],
      "metadata": {
        "id": "P2PkwK75Z6QB"
      },
      "execution_count": 62,
      "outputs": []
    },
    {
      "cell_type": "code",
      "source": [
        "# Predicciones\n",
        "forecaster_cargado.predict(steps=3)"
      ],
      "metadata": {
        "colab": {
          "base_uri": "https://localhost:8080/"
        },
        "id": "Wda-GsuTZ8Ti",
        "outputId": "4ebb7510-d859-4ab6-840c-9c70dae54ca1"
      },
      "execution_count": 63,
      "outputs": [
        {
          "output_type": "execute_result",
          "data": {
            "text/plain": [
              "2008-07-01    0.751967\n",
              "2008-08-01    0.826505\n",
              "2008-09-01    0.879444\n",
              "Freq: MS, Name: pred, dtype: float64"
            ]
          },
          "metadata": {},
          "execution_count": 63
        }
      ]
    },
    {
      "cell_type": "markdown",
      "source": [
        "# Uso de modelos en producción\n",
        "\n",
        "En los proyectos relacionados con forecasting es frecuente que, como resultado de la etapa de experimentación y desarrollo, se genere un modelo. Para que este modelo consiga un impacto real en el negocio, se tiene que poder poner en producción y generar predicciones cada cierto tiempo, con las que tomar decisiones. Esta necesidad ha guiado en gran medida el desarrollo de la librería Skforecast.\n",
        "\n",
        "Supóngase un caso de uso en el que se han de generar predicciones de forma semanal, por ejemplo, cada lunes el modelo tiene que predecir el resto de la semana. Una forma de conseguir este comportamiento es reentrenando el modelo semanalmente justo antes de que se ejecute la primera predicción y llamar a continuación al método predict del objeto forecaster.\n",
        "\n",
        "Esta estrategia, si bien es sencilla, puede no ser posible de utilizar en la práctica por varias razones:\n",
        "\n",
        "\n",
        "\n",
        "\n",
        "*   El entrenamiento del modelo es muy costoso y no puede ejecutarse con tanta frecuencia.\n",
        "*   Ya no se dispone del histórico con el que se entrenó el modelo.\n",
        "*   La frecuencia de predicción es tan elevada que no se dispone de tiempo para entrenar el modelo entre predicción y predicción.\n",
        "\n",
        "En estos casos, es necesario que el modelo pueda ejecutarse en cualquier momento aunque no se haya entrenado recientemente.\n",
        "\n",
        "Todos los modelos generados por la librería Skforecast disponen en su método predict del argumento last_window. Gracias a él, se pueden proporcionar únicamente los valores pasados que necesita el modelo para crear los predictores autorregresivos (lags) y así generar las predicciones sin necesidad de reentrenar el modelo.\n",
        "\n",
        "\n",
        "https://joaquinamatrodrigo.github.io/skforecast/0.4.3/notebooks/forecaster-in-production.html"
      ],
      "metadata": {
        "id": "dscfVx17Z82k"
      }
    },
    {
      "cell_type": "code",
      "source": [
        "forecaster = ForecasterAutoreg(\n",
        "                regressor = RandomForestRegressor(random_state=123),\n",
        "                lags = 6\n",
        "             )\n",
        "\n",
        "forecaster.fit(y=datos_train['y'])"
      ],
      "metadata": {
        "id": "jNZ0tM2paPO3"
      },
      "execution_count": 64,
      "outputs": []
    },
    {
      "cell_type": "markdown",
      "source": [
        "En este caso, dado que el modelo utiliza como predictores los últimos 6 lags, last_window debe de contener como mínimo los 6 valores previos al momento donde se quiere iniciar la predicción.\n",
        "\n"
      ],
      "metadata": {
        "id": "IL22j2qCaS0n"
      }
    },
    {
      "cell_type": "code",
      "source": [
        "last_window = datos_test['y'][-6:]\n",
        "forecaster.predict(last_window=last_window, steps=4)"
      ],
      "metadata": {
        "colab": {
          "base_uri": "https://localhost:8080/"
        },
        "id": "octoclhKaTm1",
        "outputId": "d1922edb-ff89-475b-86e4-608518120d83"
      },
      "execution_count": 65,
      "outputs": [
        {
          "output_type": "execute_result",
          "data": {
            "text/plain": [
              "2008-07-01    0.757750\n",
              "2008-08-01    0.836313\n",
              "2008-09-01    0.877668\n",
              "2008-10-01    0.911734\n",
              "Freq: MS, Name: pred, dtype: float64"
            ]
          },
          "metadata": {},
          "execution_count": 65
        }
      ]
    },
    {
      "cell_type": "markdown",
      "source": [
        "Si el forecaster utiliza variables exógenas, además de last_window, se le deben proporcionar los valores futuros de las variables exógenas mediante el argumento exog."
      ],
      "metadata": {
        "id": "qVZIUk2SaXNc"
      }
    },
    {
      "cell_type": "markdown",
      "source": [
        "https://www.cienciadedatos.net/documentos/py27-forecasting-series-temporales-python-scikitlearn.html#Ajuste-de-hiperpar%C3%A1metros-(tuning)"
      ],
      "metadata": {
        "id": "3gHGNvDYawVJ"
      }
    }
  ]
}